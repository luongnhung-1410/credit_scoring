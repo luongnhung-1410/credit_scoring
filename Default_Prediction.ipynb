{
  "nbformat": 4,
  "nbformat_minor": 0,
  "metadata": {
    "colab": {
      "provenance": [],
      "authorship_tag": "ABX9TyPQT7Py+WSrU/VTOs7enwkV"
    },
    "kernelspec": {
      "name": "python3",
      "display_name": "Python 3"
    },
    "language_info": {
      "name": "python"
    }
  },
  "cells": [
    {
      "cell_type": "code",
      "source": [
        "pip install optuna"
      ],
      "metadata": {
        "colab": {
          "base_uri": "https://localhost:8080/"
        },
        "id": "tXahS98DobRX",
        "outputId": "de1741cc-952c-4080-d067-93117addd985"
      },
      "execution_count": 2,
      "outputs": [
        {
          "output_type": "stream",
          "name": "stdout",
          "text": [
            "Collecting optuna\n",
            "  Downloading optuna-4.1.0-py3-none-any.whl.metadata (16 kB)\n",
            "Collecting alembic>=1.5.0 (from optuna)\n",
            "  Downloading alembic-1.14.0-py3-none-any.whl.metadata (7.4 kB)\n",
            "Collecting colorlog (from optuna)\n",
            "  Downloading colorlog-6.9.0-py3-none-any.whl.metadata (10 kB)\n",
            "Requirement already satisfied: numpy in /usr/local/lib/python3.11/dist-packages (from optuna) (1.26.4)\n",
            "Requirement already satisfied: packaging>=20.0 in /usr/local/lib/python3.11/dist-packages (from optuna) (24.2)\n",
            "Requirement already satisfied: sqlalchemy>=1.4.2 in /usr/local/lib/python3.11/dist-packages (from optuna) (2.0.37)\n",
            "Requirement already satisfied: tqdm in /usr/local/lib/python3.11/dist-packages (from optuna) (4.67.1)\n",
            "Requirement already satisfied: PyYAML in /usr/local/lib/python3.11/dist-packages (from optuna) (6.0.2)\n",
            "Collecting Mako (from alembic>=1.5.0->optuna)\n",
            "  Downloading Mako-1.3.8-py3-none-any.whl.metadata (2.9 kB)\n",
            "Requirement already satisfied: typing-extensions>=4 in /usr/local/lib/python3.11/dist-packages (from alembic>=1.5.0->optuna) (4.12.2)\n",
            "Requirement already satisfied: greenlet!=0.4.17 in /usr/local/lib/python3.11/dist-packages (from sqlalchemy>=1.4.2->optuna) (3.1.1)\n",
            "Requirement already satisfied: MarkupSafe>=0.9.2 in /usr/local/lib/python3.11/dist-packages (from Mako->alembic>=1.5.0->optuna) (3.0.2)\n",
            "Downloading optuna-4.1.0-py3-none-any.whl (364 kB)\n",
            "\u001b[2K   \u001b[90m━━━━━━━━━━━━━━━━━━━━━━━━━━━━━━━━━━━━━━━━\u001b[0m \u001b[32m364.4/364.4 kB\u001b[0m \u001b[31m7.5 MB/s\u001b[0m eta \u001b[36m0:00:00\u001b[0m\n",
            "\u001b[?25hDownloading alembic-1.14.0-py3-none-any.whl (233 kB)\n",
            "\u001b[2K   \u001b[90m━━━━━━━━━━━━━━━━━━━━━━━━━━━━━━━━━━━━━━━━\u001b[0m \u001b[32m233.5/233.5 kB\u001b[0m \u001b[31m18.4 MB/s\u001b[0m eta \u001b[36m0:00:00\u001b[0m\n",
            "\u001b[?25hDownloading colorlog-6.9.0-py3-none-any.whl (11 kB)\n",
            "Downloading Mako-1.3.8-py3-none-any.whl (78 kB)\n",
            "\u001b[2K   \u001b[90m━━━━━━━━━━━━━━━━━━━━━━━━━━━━━━━━━━━━━━━━\u001b[0m \u001b[32m78.6/78.6 kB\u001b[0m \u001b[31m6.7 MB/s\u001b[0m eta \u001b[36m0:00:00\u001b[0m\n",
            "\u001b[?25hInstalling collected packages: Mako, colorlog, alembic, optuna\n",
            "Successfully installed Mako-1.3.8 alembic-1.14.0 colorlog-6.9.0 optuna-4.1.0\n"
          ]
        }
      ]
    },
    {
      "cell_type": "code",
      "source": [
        "import pandas as pd\n",
        "import numpy as np\n",
        "import seaborn as sns\n",
        "import matplotlib.pyplot as plt\n",
        "from sklearn.metrics import confusion_matrix, f1_score, roc_curve, roc_auc_score\n",
        "import optuna"
      ],
      "metadata": {
        "id": "IYUOHQ6bek7H"
      },
      "execution_count": 19,
      "outputs": []
    },
    {
      "cell_type": "code",
      "source": [
        "df = pd.read_csv(\"/content/hmeq.csv\")\n",
        "df.head()"
      ],
      "metadata": {
        "colab": {
          "base_uri": "https://localhost:8080/",
          "height": 206
        },
        "id": "QwWD-xbOogTW",
        "outputId": "df6a3c31-f5ef-44d3-b0d5-6b6d84f12d01"
      },
      "execution_count": 5,
      "outputs": [
        {
          "output_type": "execute_result",
          "data": {
            "text/plain": [
              "   BAD  LOAN  MORTDUE     VALUE   REASON     JOB   YOJ  DEROG  DELINQ  \\\n",
              "0    1  1100  25860.0   39025.0  HomeImp   Other  10.5    0.0     0.0   \n",
              "1    1  1300  70053.0   68400.0  HomeImp   Other   7.0    0.0     2.0   \n",
              "2    1  1500  13500.0   16700.0  HomeImp   Other   4.0    0.0     0.0   \n",
              "3    1  1500      NaN       NaN      NaN     NaN   NaN    NaN     NaN   \n",
              "4    0  1700  97800.0  112000.0  HomeImp  Office   3.0    0.0     0.0   \n",
              "\n",
              "        CLAGE  NINQ  CLNO  DEBTINC  \n",
              "0   94.366667   1.0   9.0      NaN  \n",
              "1  121.833333   0.0  14.0      NaN  \n",
              "2  149.466667   1.0  10.0      NaN  \n",
              "3         NaN   NaN   NaN      NaN  \n",
              "4   93.333333   0.0  14.0      NaN  "
            ],
            "text/html": [
              "\n",
              "  <div id=\"df-1f50ce3b-c9b5-49f4-a826-55fdbd8883d1\" class=\"colab-df-container\">\n",
              "    <div>\n",
              "<style scoped>\n",
              "    .dataframe tbody tr th:only-of-type {\n",
              "        vertical-align: middle;\n",
              "    }\n",
              "\n",
              "    .dataframe tbody tr th {\n",
              "        vertical-align: top;\n",
              "    }\n",
              "\n",
              "    .dataframe thead th {\n",
              "        text-align: right;\n",
              "    }\n",
              "</style>\n",
              "<table border=\"1\" class=\"dataframe\">\n",
              "  <thead>\n",
              "    <tr style=\"text-align: right;\">\n",
              "      <th></th>\n",
              "      <th>BAD</th>\n",
              "      <th>LOAN</th>\n",
              "      <th>MORTDUE</th>\n",
              "      <th>VALUE</th>\n",
              "      <th>REASON</th>\n",
              "      <th>JOB</th>\n",
              "      <th>YOJ</th>\n",
              "      <th>DEROG</th>\n",
              "      <th>DELINQ</th>\n",
              "      <th>CLAGE</th>\n",
              "      <th>NINQ</th>\n",
              "      <th>CLNO</th>\n",
              "      <th>DEBTINC</th>\n",
              "    </tr>\n",
              "  </thead>\n",
              "  <tbody>\n",
              "    <tr>\n",
              "      <th>0</th>\n",
              "      <td>1</td>\n",
              "      <td>1100</td>\n",
              "      <td>25860.0</td>\n",
              "      <td>39025.0</td>\n",
              "      <td>HomeImp</td>\n",
              "      <td>Other</td>\n",
              "      <td>10.5</td>\n",
              "      <td>0.0</td>\n",
              "      <td>0.0</td>\n",
              "      <td>94.366667</td>\n",
              "      <td>1.0</td>\n",
              "      <td>9.0</td>\n",
              "      <td>NaN</td>\n",
              "    </tr>\n",
              "    <tr>\n",
              "      <th>1</th>\n",
              "      <td>1</td>\n",
              "      <td>1300</td>\n",
              "      <td>70053.0</td>\n",
              "      <td>68400.0</td>\n",
              "      <td>HomeImp</td>\n",
              "      <td>Other</td>\n",
              "      <td>7.0</td>\n",
              "      <td>0.0</td>\n",
              "      <td>2.0</td>\n",
              "      <td>121.833333</td>\n",
              "      <td>0.0</td>\n",
              "      <td>14.0</td>\n",
              "      <td>NaN</td>\n",
              "    </tr>\n",
              "    <tr>\n",
              "      <th>2</th>\n",
              "      <td>1</td>\n",
              "      <td>1500</td>\n",
              "      <td>13500.0</td>\n",
              "      <td>16700.0</td>\n",
              "      <td>HomeImp</td>\n",
              "      <td>Other</td>\n",
              "      <td>4.0</td>\n",
              "      <td>0.0</td>\n",
              "      <td>0.0</td>\n",
              "      <td>149.466667</td>\n",
              "      <td>1.0</td>\n",
              "      <td>10.0</td>\n",
              "      <td>NaN</td>\n",
              "    </tr>\n",
              "    <tr>\n",
              "      <th>3</th>\n",
              "      <td>1</td>\n",
              "      <td>1500</td>\n",
              "      <td>NaN</td>\n",
              "      <td>NaN</td>\n",
              "      <td>NaN</td>\n",
              "      <td>NaN</td>\n",
              "      <td>NaN</td>\n",
              "      <td>NaN</td>\n",
              "      <td>NaN</td>\n",
              "      <td>NaN</td>\n",
              "      <td>NaN</td>\n",
              "      <td>NaN</td>\n",
              "      <td>NaN</td>\n",
              "    </tr>\n",
              "    <tr>\n",
              "      <th>4</th>\n",
              "      <td>0</td>\n",
              "      <td>1700</td>\n",
              "      <td>97800.0</td>\n",
              "      <td>112000.0</td>\n",
              "      <td>HomeImp</td>\n",
              "      <td>Office</td>\n",
              "      <td>3.0</td>\n",
              "      <td>0.0</td>\n",
              "      <td>0.0</td>\n",
              "      <td>93.333333</td>\n",
              "      <td>0.0</td>\n",
              "      <td>14.0</td>\n",
              "      <td>NaN</td>\n",
              "    </tr>\n",
              "  </tbody>\n",
              "</table>\n",
              "</div>\n",
              "    <div class=\"colab-df-buttons\">\n",
              "\n",
              "  <div class=\"colab-df-container\">\n",
              "    <button class=\"colab-df-convert\" onclick=\"convertToInteractive('df-1f50ce3b-c9b5-49f4-a826-55fdbd8883d1')\"\n",
              "            title=\"Convert this dataframe to an interactive table.\"\n",
              "            style=\"display:none;\">\n",
              "\n",
              "  <svg xmlns=\"http://www.w3.org/2000/svg\" height=\"24px\" viewBox=\"0 -960 960 960\">\n",
              "    <path d=\"M120-120v-720h720v720H120Zm60-500h600v-160H180v160Zm220 220h160v-160H400v160Zm0 220h160v-160H400v160ZM180-400h160v-160H180v160Zm440 0h160v-160H620v160ZM180-180h160v-160H180v160Zm440 0h160v-160H620v160Z\"/>\n",
              "  </svg>\n",
              "    </button>\n",
              "\n",
              "  <style>\n",
              "    .colab-df-container {\n",
              "      display:flex;\n",
              "      gap: 12px;\n",
              "    }\n",
              "\n",
              "    .colab-df-convert {\n",
              "      background-color: #E8F0FE;\n",
              "      border: none;\n",
              "      border-radius: 50%;\n",
              "      cursor: pointer;\n",
              "      display: none;\n",
              "      fill: #1967D2;\n",
              "      height: 32px;\n",
              "      padding: 0 0 0 0;\n",
              "      width: 32px;\n",
              "    }\n",
              "\n",
              "    .colab-df-convert:hover {\n",
              "      background-color: #E2EBFA;\n",
              "      box-shadow: 0px 1px 2px rgba(60, 64, 67, 0.3), 0px 1px 3px 1px rgba(60, 64, 67, 0.15);\n",
              "      fill: #174EA6;\n",
              "    }\n",
              "\n",
              "    .colab-df-buttons div {\n",
              "      margin-bottom: 4px;\n",
              "    }\n",
              "\n",
              "    [theme=dark] .colab-df-convert {\n",
              "      background-color: #3B4455;\n",
              "      fill: #D2E3FC;\n",
              "    }\n",
              "\n",
              "    [theme=dark] .colab-df-convert:hover {\n",
              "      background-color: #434B5C;\n",
              "      box-shadow: 0px 1px 3px 1px rgba(0, 0, 0, 0.15);\n",
              "      filter: drop-shadow(0px 1px 2px rgba(0, 0, 0, 0.3));\n",
              "      fill: #FFFFFF;\n",
              "    }\n",
              "  </style>\n",
              "\n",
              "    <script>\n",
              "      const buttonEl =\n",
              "        document.querySelector('#df-1f50ce3b-c9b5-49f4-a826-55fdbd8883d1 button.colab-df-convert');\n",
              "      buttonEl.style.display =\n",
              "        google.colab.kernel.accessAllowed ? 'block' : 'none';\n",
              "\n",
              "      async function convertToInteractive(key) {\n",
              "        const element = document.querySelector('#df-1f50ce3b-c9b5-49f4-a826-55fdbd8883d1');\n",
              "        const dataTable =\n",
              "          await google.colab.kernel.invokeFunction('convertToInteractive',\n",
              "                                                    [key], {});\n",
              "        if (!dataTable) return;\n",
              "\n",
              "        const docLinkHtml = 'Like what you see? Visit the ' +\n",
              "          '<a target=\"_blank\" href=https://colab.research.google.com/notebooks/data_table.ipynb>data table notebook</a>'\n",
              "          + ' to learn more about interactive tables.';\n",
              "        element.innerHTML = '';\n",
              "        dataTable['output_type'] = 'display_data';\n",
              "        await google.colab.output.renderOutput(dataTable, element);\n",
              "        const docLink = document.createElement('div');\n",
              "        docLink.innerHTML = docLinkHtml;\n",
              "        element.appendChild(docLink);\n",
              "      }\n",
              "    </script>\n",
              "  </div>\n",
              "\n",
              "\n",
              "<div id=\"df-49942bcc-cd24-4f9c-8b35-a2a3e77de339\">\n",
              "  <button class=\"colab-df-quickchart\" onclick=\"quickchart('df-49942bcc-cd24-4f9c-8b35-a2a3e77de339')\"\n",
              "            title=\"Suggest charts\"\n",
              "            style=\"display:none;\">\n",
              "\n",
              "<svg xmlns=\"http://www.w3.org/2000/svg\" height=\"24px\"viewBox=\"0 0 24 24\"\n",
              "     width=\"24px\">\n",
              "    <g>\n",
              "        <path d=\"M19 3H5c-1.1 0-2 .9-2 2v14c0 1.1.9 2 2 2h14c1.1 0 2-.9 2-2V5c0-1.1-.9-2-2-2zM9 17H7v-7h2v7zm4 0h-2V7h2v10zm4 0h-2v-4h2v4z\"/>\n",
              "    </g>\n",
              "</svg>\n",
              "  </button>\n",
              "\n",
              "<style>\n",
              "  .colab-df-quickchart {\n",
              "      --bg-color: #E8F0FE;\n",
              "      --fill-color: #1967D2;\n",
              "      --hover-bg-color: #E2EBFA;\n",
              "      --hover-fill-color: #174EA6;\n",
              "      --disabled-fill-color: #AAA;\n",
              "      --disabled-bg-color: #DDD;\n",
              "  }\n",
              "\n",
              "  [theme=dark] .colab-df-quickchart {\n",
              "      --bg-color: #3B4455;\n",
              "      --fill-color: #D2E3FC;\n",
              "      --hover-bg-color: #434B5C;\n",
              "      --hover-fill-color: #FFFFFF;\n",
              "      --disabled-bg-color: #3B4455;\n",
              "      --disabled-fill-color: #666;\n",
              "  }\n",
              "\n",
              "  .colab-df-quickchart {\n",
              "    background-color: var(--bg-color);\n",
              "    border: none;\n",
              "    border-radius: 50%;\n",
              "    cursor: pointer;\n",
              "    display: none;\n",
              "    fill: var(--fill-color);\n",
              "    height: 32px;\n",
              "    padding: 0;\n",
              "    width: 32px;\n",
              "  }\n",
              "\n",
              "  .colab-df-quickchart:hover {\n",
              "    background-color: var(--hover-bg-color);\n",
              "    box-shadow: 0 1px 2px rgba(60, 64, 67, 0.3), 0 1px 3px 1px rgba(60, 64, 67, 0.15);\n",
              "    fill: var(--button-hover-fill-color);\n",
              "  }\n",
              "\n",
              "  .colab-df-quickchart-complete:disabled,\n",
              "  .colab-df-quickchart-complete:disabled:hover {\n",
              "    background-color: var(--disabled-bg-color);\n",
              "    fill: var(--disabled-fill-color);\n",
              "    box-shadow: none;\n",
              "  }\n",
              "\n",
              "  .colab-df-spinner {\n",
              "    border: 2px solid var(--fill-color);\n",
              "    border-color: transparent;\n",
              "    border-bottom-color: var(--fill-color);\n",
              "    animation:\n",
              "      spin 1s steps(1) infinite;\n",
              "  }\n",
              "\n",
              "  @keyframes spin {\n",
              "    0% {\n",
              "      border-color: transparent;\n",
              "      border-bottom-color: var(--fill-color);\n",
              "      border-left-color: var(--fill-color);\n",
              "    }\n",
              "    20% {\n",
              "      border-color: transparent;\n",
              "      border-left-color: var(--fill-color);\n",
              "      border-top-color: var(--fill-color);\n",
              "    }\n",
              "    30% {\n",
              "      border-color: transparent;\n",
              "      border-left-color: var(--fill-color);\n",
              "      border-top-color: var(--fill-color);\n",
              "      border-right-color: var(--fill-color);\n",
              "    }\n",
              "    40% {\n",
              "      border-color: transparent;\n",
              "      border-right-color: var(--fill-color);\n",
              "      border-top-color: var(--fill-color);\n",
              "    }\n",
              "    60% {\n",
              "      border-color: transparent;\n",
              "      border-right-color: var(--fill-color);\n",
              "    }\n",
              "    80% {\n",
              "      border-color: transparent;\n",
              "      border-right-color: var(--fill-color);\n",
              "      border-bottom-color: var(--fill-color);\n",
              "    }\n",
              "    90% {\n",
              "      border-color: transparent;\n",
              "      border-bottom-color: var(--fill-color);\n",
              "    }\n",
              "  }\n",
              "</style>\n",
              "\n",
              "  <script>\n",
              "    async function quickchart(key) {\n",
              "      const quickchartButtonEl =\n",
              "        document.querySelector('#' + key + ' button');\n",
              "      quickchartButtonEl.disabled = true;  // To prevent multiple clicks.\n",
              "      quickchartButtonEl.classList.add('colab-df-spinner');\n",
              "      try {\n",
              "        const charts = await google.colab.kernel.invokeFunction(\n",
              "            'suggestCharts', [key], {});\n",
              "      } catch (error) {\n",
              "        console.error('Error during call to suggestCharts:', error);\n",
              "      }\n",
              "      quickchartButtonEl.classList.remove('colab-df-spinner');\n",
              "      quickchartButtonEl.classList.add('colab-df-quickchart-complete');\n",
              "    }\n",
              "    (() => {\n",
              "      let quickchartButtonEl =\n",
              "        document.querySelector('#df-49942bcc-cd24-4f9c-8b35-a2a3e77de339 button');\n",
              "      quickchartButtonEl.style.display =\n",
              "        google.colab.kernel.accessAllowed ? 'block' : 'none';\n",
              "    })();\n",
              "  </script>\n",
              "</div>\n",
              "\n",
              "    </div>\n",
              "  </div>\n"
            ],
            "application/vnd.google.colaboratory.intrinsic+json": {
              "type": "dataframe",
              "variable_name": "df",
              "summary": "{\n  \"name\": \"df\",\n  \"rows\": 5960,\n  \"fields\": [\n    {\n      \"column\": \"BAD\",\n      \"properties\": {\n        \"dtype\": \"number\",\n        \"std\": 0,\n        \"min\": 0,\n        \"max\": 1,\n        \"num_unique_values\": 2,\n        \"samples\": [\n          0,\n          1\n        ],\n        \"semantic_type\": \"\",\n        \"description\": \"\"\n      }\n    },\n    {\n      \"column\": \"LOAN\",\n      \"properties\": {\n        \"dtype\": \"number\",\n        \"std\": 11207,\n        \"min\": 1100,\n        \"max\": 89900,\n        \"num_unique_values\": 540,\n        \"samples\": [\n          24700,\n          9100\n        ],\n        \"semantic_type\": \"\",\n        \"description\": \"\"\n      }\n    },\n    {\n      \"column\": \"MORTDUE\",\n      \"properties\": {\n        \"dtype\": \"number\",\n        \"std\": 44457.60945841592,\n        \"min\": 2063.0,\n        \"max\": 399550.0,\n        \"num_unique_values\": 5053,\n        \"samples\": [\n          61847.0,\n          37750.0\n        ],\n        \"semantic_type\": \"\",\n        \"description\": \"\"\n      }\n    },\n    {\n      \"column\": \"VALUE\",\n      \"properties\": {\n        \"dtype\": \"number\",\n        \"std\": 57385.7753337027,\n        \"min\": 8000.0,\n        \"max\": 855909.0,\n        \"num_unique_values\": 5381,\n        \"samples\": [\n          41438.0,\n          60640.0\n        ],\n        \"semantic_type\": \"\",\n        \"description\": \"\"\n      }\n    },\n    {\n      \"column\": \"REASON\",\n      \"properties\": {\n        \"dtype\": \"category\",\n        \"num_unique_values\": 2,\n        \"samples\": [\n          \"DebtCon\",\n          \"HomeImp\"\n        ],\n        \"semantic_type\": \"\",\n        \"description\": \"\"\n      }\n    },\n    {\n      \"column\": \"JOB\",\n      \"properties\": {\n        \"dtype\": \"category\",\n        \"num_unique_values\": 6,\n        \"samples\": [\n          \"Other\",\n          \"Office\"\n        ],\n        \"semantic_type\": \"\",\n        \"description\": \"\"\n      }\n    },\n    {\n      \"column\": \"YOJ\",\n      \"properties\": {\n        \"dtype\": \"number\",\n        \"std\": 7.573982248898836,\n        \"min\": 0.0,\n        \"max\": 41.0,\n        \"num_unique_values\": 99,\n        \"samples\": [\n          2.3,\n          1.4\n        ],\n        \"semantic_type\": \"\",\n        \"description\": \"\"\n      }\n    },\n    {\n      \"column\": \"DEROG\",\n      \"properties\": {\n        \"dtype\": \"number\",\n        \"std\": 0.8460467770863016,\n        \"min\": 0.0,\n        \"max\": 10.0,\n        \"num_unique_values\": 11,\n        \"samples\": [\n          5.0,\n          0.0\n        ],\n        \"semantic_type\": \"\",\n        \"description\": \"\"\n      }\n    },\n    {\n      \"column\": \"DELINQ\",\n      \"properties\": {\n        \"dtype\": \"number\",\n        \"std\": 1.1272659176049586,\n        \"min\": 0.0,\n        \"max\": 15.0,\n        \"num_unique_values\": 14,\n        \"samples\": [\n          8.0,\n          12.0\n        ],\n        \"semantic_type\": \"\",\n        \"description\": \"\"\n      }\n    },\n    {\n      \"column\": \"CLAGE\",\n      \"properties\": {\n        \"dtype\": \"number\",\n        \"std\": 85.81009176356643,\n        \"min\": 0.0,\n        \"max\": 1168.2335609,\n        \"num_unique_values\": 5314,\n        \"samples\": [\n          117.16666667,\n          191.1124423\n        ],\n        \"semantic_type\": \"\",\n        \"description\": \"\"\n      }\n    },\n    {\n      \"column\": \"NINQ\",\n      \"properties\": {\n        \"dtype\": \"number\",\n        \"std\": 1.728674971208009,\n        \"min\": 0.0,\n        \"max\": 17.0,\n        \"num_unique_values\": 16,\n        \"samples\": [\n          1.0,\n          0.0\n        ],\n        \"semantic_type\": \"\",\n        \"description\": \"\"\n      }\n    },\n    {\n      \"column\": \"CLNO\",\n      \"properties\": {\n        \"dtype\": \"number\",\n        \"std\": 10.13893319245861,\n        \"min\": 0.0,\n        \"max\": 71.0,\n        \"num_unique_values\": 62,\n        \"samples\": [\n          55.0,\n          53.0\n        ],\n        \"semantic_type\": \"\",\n        \"description\": \"\"\n      }\n    },\n    {\n      \"column\": \"DEBTINC\",\n      \"properties\": {\n        \"dtype\": \"number\",\n        \"std\": 8.601746186328535,\n        \"min\": 0.5244992154,\n        \"max\": 203.31214869,\n        \"num_unique_values\": 4693,\n        \"samples\": [\n          29.549283511,\n          48.277591224\n        ],\n        \"semantic_type\": \"\",\n        \"description\": \"\"\n      }\n    }\n  ]\n}"
            }
          },
          "metadata": {},
          "execution_count": 5
        }
      ]
    },
    {
      "cell_type": "markdown",
      "source": [
        "# 1. Data preparation\n",
        "***Xử lý missing value***\n",
        "- Với numerical variable, thay thế missing value bằng Mean\n",
        "- Với categorical variable, thay thế missing value bằng Mode"
      ],
      "metadata": {
        "id": "JGHNSxibos7i"
      }
    },
    {
      "cell_type": "code",
      "source": [
        "df.isnull().sum()"
      ],
      "metadata": {
        "colab": {
          "base_uri": "https://localhost:8080/",
          "height": 491
        },
        "id": "nzBWpyrLou4O",
        "outputId": "ee01e106-5d51-4d81-be81-3f4b289c8519"
      },
      "execution_count": 6,
      "outputs": [
        {
          "output_type": "execute_result",
          "data": {
            "text/plain": [
              "BAD           0\n",
              "LOAN          0\n",
              "MORTDUE     518\n",
              "VALUE       112\n",
              "REASON      252\n",
              "JOB         279\n",
              "YOJ         515\n",
              "DEROG       708\n",
              "DELINQ      580\n",
              "CLAGE       308\n",
              "NINQ        510\n",
              "CLNO        222\n",
              "DEBTINC    1267\n",
              "dtype: int64"
            ],
            "text/html": [
              "<div>\n",
              "<style scoped>\n",
              "    .dataframe tbody tr th:only-of-type {\n",
              "        vertical-align: middle;\n",
              "    }\n",
              "\n",
              "    .dataframe tbody tr th {\n",
              "        vertical-align: top;\n",
              "    }\n",
              "\n",
              "    .dataframe thead th {\n",
              "        text-align: right;\n",
              "    }\n",
              "</style>\n",
              "<table border=\"1\" class=\"dataframe\">\n",
              "  <thead>\n",
              "    <tr style=\"text-align: right;\">\n",
              "      <th></th>\n",
              "      <th>0</th>\n",
              "    </tr>\n",
              "  </thead>\n",
              "  <tbody>\n",
              "    <tr>\n",
              "      <th>BAD</th>\n",
              "      <td>0</td>\n",
              "    </tr>\n",
              "    <tr>\n",
              "      <th>LOAN</th>\n",
              "      <td>0</td>\n",
              "    </tr>\n",
              "    <tr>\n",
              "      <th>MORTDUE</th>\n",
              "      <td>518</td>\n",
              "    </tr>\n",
              "    <tr>\n",
              "      <th>VALUE</th>\n",
              "      <td>112</td>\n",
              "    </tr>\n",
              "    <tr>\n",
              "      <th>REASON</th>\n",
              "      <td>252</td>\n",
              "    </tr>\n",
              "    <tr>\n",
              "      <th>JOB</th>\n",
              "      <td>279</td>\n",
              "    </tr>\n",
              "    <tr>\n",
              "      <th>YOJ</th>\n",
              "      <td>515</td>\n",
              "    </tr>\n",
              "    <tr>\n",
              "      <th>DEROG</th>\n",
              "      <td>708</td>\n",
              "    </tr>\n",
              "    <tr>\n",
              "      <th>DELINQ</th>\n",
              "      <td>580</td>\n",
              "    </tr>\n",
              "    <tr>\n",
              "      <th>CLAGE</th>\n",
              "      <td>308</td>\n",
              "    </tr>\n",
              "    <tr>\n",
              "      <th>NINQ</th>\n",
              "      <td>510</td>\n",
              "    </tr>\n",
              "    <tr>\n",
              "      <th>CLNO</th>\n",
              "      <td>222</td>\n",
              "    </tr>\n",
              "    <tr>\n",
              "      <th>DEBTINC</th>\n",
              "      <td>1267</td>\n",
              "    </tr>\n",
              "  </tbody>\n",
              "</table>\n",
              "</div><br><label><b>dtype:</b> int64</label>"
            ]
          },
          "metadata": {},
          "execution_count": 6
        }
      ]
    },
    {
      "cell_type": "code",
      "source": [
        "numeric_cols = df.select_dtypes(include=['number']).columns\n",
        "\n",
        "for col in numeric_cols:\n",
        "    df[col] = df[col].fillna(df[col].mean())"
      ],
      "metadata": {
        "id": "cMrdbarBozhe"
      },
      "execution_count": 7,
      "outputs": []
    },
    {
      "cell_type": "code",
      "source": [
        "cate_cols = df.select_dtypes(include=['object']).columns\n",
        "\n",
        "for col in cate_cols:\n",
        "    df[col] = df[col].fillna(df[col].mode()[0])"
      ],
      "metadata": {
        "id": "DeTBeqNro3Z4"
      },
      "execution_count": 8,
      "outputs": []
    },
    {
      "cell_type": "code",
      "source": [
        "df.isnull().sum()"
      ],
      "metadata": {
        "colab": {
          "base_uri": "https://localhost:8080/",
          "height": 491
        },
        "id": "y84tiMN0o5AR",
        "outputId": "3f4ca6ff-c498-44ea-ccbb-8a00c6cd315b"
      },
      "execution_count": 9,
      "outputs": [
        {
          "output_type": "execute_result",
          "data": {
            "text/plain": [
              "BAD        0\n",
              "LOAN       0\n",
              "MORTDUE    0\n",
              "VALUE      0\n",
              "REASON     0\n",
              "JOB        0\n",
              "YOJ        0\n",
              "DEROG      0\n",
              "DELINQ     0\n",
              "CLAGE      0\n",
              "NINQ       0\n",
              "CLNO       0\n",
              "DEBTINC    0\n",
              "dtype: int64"
            ],
            "text/html": [
              "<div>\n",
              "<style scoped>\n",
              "    .dataframe tbody tr th:only-of-type {\n",
              "        vertical-align: middle;\n",
              "    }\n",
              "\n",
              "    .dataframe tbody tr th {\n",
              "        vertical-align: top;\n",
              "    }\n",
              "\n",
              "    .dataframe thead th {\n",
              "        text-align: right;\n",
              "    }\n",
              "</style>\n",
              "<table border=\"1\" class=\"dataframe\">\n",
              "  <thead>\n",
              "    <tr style=\"text-align: right;\">\n",
              "      <th></th>\n",
              "      <th>0</th>\n",
              "    </tr>\n",
              "  </thead>\n",
              "  <tbody>\n",
              "    <tr>\n",
              "      <th>BAD</th>\n",
              "      <td>0</td>\n",
              "    </tr>\n",
              "    <tr>\n",
              "      <th>LOAN</th>\n",
              "      <td>0</td>\n",
              "    </tr>\n",
              "    <tr>\n",
              "      <th>MORTDUE</th>\n",
              "      <td>0</td>\n",
              "    </tr>\n",
              "    <tr>\n",
              "      <th>VALUE</th>\n",
              "      <td>0</td>\n",
              "    </tr>\n",
              "    <tr>\n",
              "      <th>REASON</th>\n",
              "      <td>0</td>\n",
              "    </tr>\n",
              "    <tr>\n",
              "      <th>JOB</th>\n",
              "      <td>0</td>\n",
              "    </tr>\n",
              "    <tr>\n",
              "      <th>YOJ</th>\n",
              "      <td>0</td>\n",
              "    </tr>\n",
              "    <tr>\n",
              "      <th>DEROG</th>\n",
              "      <td>0</td>\n",
              "    </tr>\n",
              "    <tr>\n",
              "      <th>DELINQ</th>\n",
              "      <td>0</td>\n",
              "    </tr>\n",
              "    <tr>\n",
              "      <th>CLAGE</th>\n",
              "      <td>0</td>\n",
              "    </tr>\n",
              "    <tr>\n",
              "      <th>NINQ</th>\n",
              "      <td>0</td>\n",
              "    </tr>\n",
              "    <tr>\n",
              "      <th>CLNO</th>\n",
              "      <td>0</td>\n",
              "    </tr>\n",
              "    <tr>\n",
              "      <th>DEBTINC</th>\n",
              "      <td>0</td>\n",
              "    </tr>\n",
              "  </tbody>\n",
              "</table>\n",
              "</div><br><label><b>dtype:</b> int64</label>"
            ]
          },
          "metadata": {},
          "execution_count": 9
        }
      ]
    },
    {
      "cell_type": "code",
      "source": [
        "corr_matrix = df.select_dtypes(include=['number']).corr()\n",
        "\n",
        "plt.figure(figsize=(10,8))\n",
        "sns.heatmap(corr_matrix, annot = True)\n",
        "plt.show()"
      ],
      "metadata": {
        "colab": {
          "base_uri": "https://localhost:8080/",
          "height": 737
        },
        "id": "9n5hJisNo6rb",
        "outputId": "87221384-e583-447b-9a9d-3b1293ad197f"
      },
      "execution_count": 10,
      "outputs": [
        {
          "output_type": "display_data",
          "data": {
            "text/plain": [
              "<Figure size 1000x800 with 2 Axes>"
            ],
            "image/png": "[encoded data removed]"
          },
          "metadata": {}
        }
      ]
    },
    {
      "cell_type": "markdown",
      "source": [
        "***Chia train-val-test***"
      ],
      "metadata": {
        "id": "XNNWO2HApDYp"
      }
    },
    {
      "cell_type": "code",
      "source": [
        "from sklearn.model_selection import train_test_split\n",
        "\n",
        "# 64%-16%-20%\n",
        "train_val, test = train_test_split(df, test_size=0.2, random_state=42)\n",
        "train, val = train_test_split(train_val, test_size=0.2, random_state=42)"
      ],
      "metadata": {
        "id": "IuYvKfo_o9OS"
      },
      "execution_count": 11,
      "outputs": []
    },
    {
      "cell_type": "markdown",
      "source": [
        "# 2. Mô hình"
      ],
      "metadata": {
        "id": "PHXH8CExpM0f"
      }
    },
    {
      "cell_type": "markdown",
      "source": [
        "## Random Forest"
      ],
      "metadata": {
        "id": "EWP96CpMpNqf"
      }
    },
    {
      "cell_type": "code",
      "source": [
        "from sklearn.ensemble import RandomForestClassifier"
      ],
      "metadata": {
        "id": "RfGavDFJpKjI"
      },
      "execution_count": 12,
      "outputs": []
    },
    {
      "cell_type": "markdown",
      "source": [
        "***Xử lý biến phân loại trước khi đưa vào mô hình Random Forest bằng Target Encoding***"
      ],
      "metadata": {
        "id": "skL2VHFHpS_r"
      }
    },
    {
      "cell_type": "code",
      "source": [
        "target_mean_REASON = train.groupby('REASON')['BAD'].mean()\n",
        "target_mean_JOB = train.groupby('JOB')['BAD'].mean()"
      ],
      "metadata": {
        "id": "gTG3WKVCpRr_"
      },
      "execution_count": 13,
      "outputs": []
    },
    {
      "cell_type": "code",
      "source": [
        "train_rf = train.copy()\n",
        "val_rf = val.copy()\n",
        "test_rf = test.copy()"
      ],
      "metadata": {
        "id": "CnB60g8TpVZa"
      },
      "execution_count": null,
      "outputs": []
    },
    {
      "cell_type": "code",
      "source": [
        "train_rf['REASON'] = train_rf['REASON'].map(target_mean_REASON).fillna(target_mean_REASON.mean())\n",
        "train_rf['JOB'] = train_rf['JOB'].map(target_mean_JOB).fillna(target_mean_JOB.mean())\n",
        "\n",
        "val_rf['REASON'] = val_rf['REASON'].map(target_mean_REASON).fillna(target_mean_REASON.mean())\n",
        "val_rf['JOB'] = val_rf['JOB'].map(target_mean_JOB).fillna(target_mean_JOB.mean())\n",
        "\n",
        "test_rf['REASON'] = test_rf['REASON'].map(target_mean_REASON).fillna(target_mean_REASON.mean())\n",
        "test_rf['JOB'] = test_rf['JOB'].map(target_mean_JOB).fillna(target_mean_JOB.mean())"
      ],
      "metadata": {
        "id": "hmKKLu7QpW56"
      },
      "execution_count": null,
      "outputs": []
    },
    {
      "cell_type": "code",
      "source": [
        "X_train_rf = train_rf.drop(['BAD'], axis='columns')\n",
        "y_train_rf = train_rf['BAD']\n",
        "\n",
        "X_val_rf = val_rf.drop(['BAD'], axis='columns')\n",
        "y_val_rf = val_rf['BAD']\n",
        "\n",
        "X_test_rf = test_rf.drop(['BAD'], axis='columns')\n",
        "y_test_rf = test_rf['BAD']"
      ],
      "metadata": {
        "id": "24wDUmzcpZAP"
      },
      "execution_count": null,
      "outputs": []
    },
    {
      "cell_type": "markdown",
      "source": [
        "***Tối ưu hóa bộ siêu tham số***"
      ],
      "metadata": {
        "id": "Eq62EqmJpdT7"
      }
    },
    {
      "cell_type": "code",
      "source": [
        "def objective(trial):\n",
        "    '''\n",
        "    Parameter:\n",
        "       trial: represents each attempt with a different set of hyperparameter values for the model\n",
        "\n",
        "    Return: F1-score on the validation set after training the model\n",
        "    '''\n",
        "    # Hyperparameters\n",
        "    n_estimators = trial.suggest_int('n_estimators', 100, 1000, step=50)\n",
        "    max_depth = trial.suggest_int('max_depth', 5, 20)\n",
        "    min_samples_split = trial.suggest_int('min_samples_split', 2, 20)\n",
        "    min_samples_leaf = trial.suggest_int('min_samples_leaf', 1, 20)\n",
        "    max_features = trial.suggest_categorical('max_features', ['sqrt', 'log2', None])\n",
        "\n",
        "    # Initialize the Random Forest model with hyperparameters from the trial\n",
        "    model_rf = RandomForestClassifier(\n",
        "        n_estimators=n_estimators,\n",
        "        max_depth=max_depth,\n",
        "        min_samples_split=min_samples_split,\n",
        "        min_samples_leaf=min_samples_leaf,\n",
        "        max_features=max_features,\n",
        "        random_state=42\n",
        "    )\n",
        "\n",
        "    # Train model\n",
        "    model_rf.fit(X_train_rf, y_train_rf)\n",
        "\n",
        "    # Predict\n",
        "    y_val_pred = model_rf.predict(X_val_rf)\n",
        "\n",
        "    # Calculate F1-score\n",
        "    f1 = f1_score(y_val_rf, y_val_pred)\n",
        "\n",
        "    return f1"
      ],
      "metadata": {
        "id": "bcKpcM9MpbYR"
      },
      "execution_count": null,
      "outputs": []
    },
    {
      "cell_type": "code",
      "source": [
        "# Create Optuna study object\n",
        "study = optuna.create_study(direction='maximize')\n",
        "study.optimize(objective, n_trials=50)\n",
        "\n",
        "# Print the best result\n",
        "print(\"Best hyperparameters: \", study.best_trial.params)\n",
        "print(\"Best F1-score: \", study.best_value)"
      ],
      "metadata": {
        "colab": {
          "base_uri": "https://localhost:8080/"
        },
        "id": "XeV-sYxdpgll",
        "outputId": "be1ca1ab-18d9-4017-d329-d459f5c999fb"
      },
      "execution_count": null,
      "outputs": [
        {
          "output_type": "stream",
          "name": "stderr",
          "text": [
            "[I 2025-01-15 15:48:18,321] A new study created in memory with name: no-name-fb7ffdff-052c-4f6d-9676-8b8338e266cc\n",
            "[I 2025-01-15 15:48:19,640] Trial 0 finished with value: 0.4946236559139785 and parameters: {'n_estimators': 250, 'max_depth': 6, 'min_samples_split': 12, 'min_samples_leaf': 9, 'max_features': 'sqrt'}. Best is trial 0 with value: 0.4946236559139785.\n",
            "[I 2025-01-15 15:48:27,815] Trial 1 finished with value: 0.6226415094339622 and parameters: {'n_estimators': 900, 'max_depth': 19, 'min_samples_split': 4, 'min_samples_leaf': 11, 'max_features': 'log2'}. Best is trial 1 with value: 0.6226415094339622.\n",
            "[I 2025-01-15 15:48:38,430] Trial 2 finished with value: 0.5844155844155844 and parameters: {'n_estimators': 850, 'max_depth': 16, 'min_samples_split': 6, 'min_samples_leaf': 15, 'max_features': 'sqrt'}. Best is trial 1 with value: 0.6226415094339622.\n",
            "[I 2025-01-15 15:48:45,625] Trial 3 finished with value: 0.6329113924050633 and parameters: {'n_estimators': 550, 'max_depth': 11, 'min_samples_split': 17, 'min_samples_leaf': 6, 'max_features': 'sqrt'}. Best is trial 3 with value: 0.6329113924050633.\n",
            "[I 2025-01-15 15:49:13,863] Trial 4 finished with value: 0.664756446991404 and parameters: {'n_estimators': 600, 'max_depth': 10, 'min_samples_split': 9, 'min_samples_leaf': 9, 'max_features': None}. Best is trial 4 with value: 0.664756446991404.\n",
            "[I 2025-01-15 15:49:26,816] Trial 5 finished with value: 0.676737160120846 and parameters: {'n_estimators': 950, 'max_depth': 17, 'min_samples_split': 3, 'min_samples_leaf': 6, 'max_features': 'log2'}. Best is trial 5 with value: 0.676737160120846.\n",
            "[I 2025-01-15 15:49:28,826] Trial 6 finished with value: 0.6285714285714286 and parameters: {'n_estimators': 200, 'max_depth': 9, 'min_samples_split': 3, 'min_samples_leaf': 2, 'max_features': 'sqrt'}. Best is trial 5 with value: 0.676737160120846.\n",
            "[I 2025-01-15 15:49:35,298] Trial 7 finished with value: 0.5916398713826366 and parameters: {'n_estimators': 500, 'max_depth': 16, 'min_samples_split': 7, 'min_samples_leaf': 14, 'max_features': 'sqrt'}. Best is trial 5 with value: 0.676737160120846.\n",
            "[I 2025-01-15 15:49:46,645] Trial 8 finished with value: 0.6964285714285714 and parameters: {'n_estimators': 800, 'max_depth': 20, 'min_samples_split': 9, 'min_samples_leaf': 4, 'max_features': 'sqrt'}. Best is trial 8 with value: 0.6964285714285714.\n",
            "[I 2025-01-15 15:50:14,258] Trial 9 finished with value: 0.6929577464788732 and parameters: {'n_estimators': 1000, 'max_depth': 9, 'min_samples_split': 16, 'min_samples_leaf': 2, 'max_features': None}. Best is trial 8 with value: 0.6964285714285714.\n",
            "[I 2025-01-15 15:50:19,958] Trial 10 finished with value: 0.527027027027027 and parameters: {'n_estimators': 700, 'max_depth': 20, 'min_samples_split': 13, 'min_samples_leaf': 20, 'max_features': 'log2'}. Best is trial 8 with value: 0.6964285714285714.\n",
            "[I 2025-01-15 15:50:38,477] Trial 11 finished with value: 0.6724137931034483 and parameters: {'n_estimators': 1000, 'max_depth': 7, 'min_samples_split': 20, 'min_samples_leaf': 1, 'max_features': None}. Best is trial 8 with value: 0.6964285714285714.\n",
            "[I 2025-01-15 15:51:13,453] Trial 12 finished with value: 0.7062146892655368 and parameters: {'n_estimators': 750, 'max_depth': 13, 'min_samples_split': 15, 'min_samples_leaf': 4, 'max_features': None}. Best is trial 12 with value: 0.7062146892655368.\n",
            "[I 2025-01-15 15:51:33,680] Trial 13 finished with value: 0.6985915492957746 and parameters: {'n_estimators': 700, 'max_depth': 14, 'min_samples_split': 15, 'min_samples_leaf': 5, 'max_features': None}. Best is trial 12 with value: 0.7062146892655368.\n",
            "[I 2025-01-15 15:51:47,549] Trial 14 finished with value: 0.6914285714285714 and parameters: {'n_estimators': 400, 'max_depth': 13, 'min_samples_split': 15, 'min_samples_leaf': 6, 'max_features': None}. Best is trial 12 with value: 0.7062146892655368.\n",
            "[I 2025-01-15 15:52:09,948] Trial 15 finished with value: 0.6949152542372882 and parameters: {'n_estimators': 700, 'max_depth': 13, 'min_samples_split': 19, 'min_samples_leaf': 4, 'max_features': None}. Best is trial 12 with value: 0.7062146892655368.\n",
            "[I 2025-01-15 15:52:27,568] Trial 16 finished with value: 0.6666666666666666 and parameters: {'n_estimators': 750, 'max_depth': 14, 'min_samples_split': 14, 'min_samples_leaf': 11, 'max_features': None}. Best is trial 12 with value: 0.7062146892655368.\n",
            "[I 2025-01-15 15:52:37,805] Trial 17 finished with value: 0.6742857142857143 and parameters: {'n_estimators': 400, 'max_depth': 15, 'min_samples_split': 18, 'min_samples_leaf': 8, 'max_features': None}. Best is trial 12 with value: 0.7062146892655368.\n",
            "[I 2025-01-15 15:52:54,464] Trial 18 finished with value: 0.704225352112676 and parameters: {'n_estimators': 650, 'max_depth': 12, 'min_samples_split': 12, 'min_samples_leaf': 4, 'max_features': None}. Best is trial 12 with value: 0.7062146892655368.\n",
            "[I 2025-01-15 15:52:56,487] Trial 19 finished with value: 0.6436781609195402 and parameters: {'n_estimators': 100, 'max_depth': 11, 'min_samples_split': 10, 'min_samples_leaf': 14, 'max_features': None}. Best is trial 12 with value: 0.7062146892655368.\n",
            "[I 2025-01-15 15:53:11,418] Trial 20 finished with value: 0.7247191011235955 and parameters: {'n_estimators': 600, 'max_depth': 12, 'min_samples_split': 11, 'min_samples_leaf': 3, 'max_features': None}. Best is trial 20 with value: 0.7247191011235955.\n",
            "[I 2025-01-15 15:53:27,050] Trial 21 finished with value: 0.7247191011235955 and parameters: {'n_estimators': 600, 'max_depth': 12, 'min_samples_split': 11, 'min_samples_leaf': 3, 'max_features': None}. Best is trial 20 with value: 0.7247191011235955.\n",
            "[I 2025-01-15 15:53:35,513] Trial 22 finished with value: 0.6742857142857143 and parameters: {'n_estimators': 450, 'max_depth': 8, 'min_samples_split': 11, 'min_samples_leaf': 1, 'max_features': None}. Best is trial 20 with value: 0.7247191011235955.\n",
            "[I 2025-01-15 15:53:50,587] Trial 23 finished with value: 0.7226890756302521 and parameters: {'n_estimators': 600, 'max_depth': 12, 'min_samples_split': 7, 'min_samples_leaf': 3, 'max_features': None}. Best is trial 20 with value: 0.7247191011235955.\n",
            "[I 2025-01-15 15:54:03,796] Trial 24 finished with value: 0.7195467422096318 and parameters: {'n_estimators': 550, 'max_depth': 11, 'min_samples_split': 7, 'min_samples_leaf': 3, 'max_features': None}. Best is trial 20 with value: 0.7247191011235955.\n",
            "[I 2025-01-15 15:54:09,148] Trial 25 finished with value: 0.6289308176100629 and parameters: {'n_estimators': 600, 'max_depth': 12, 'min_samples_split': 8, 'min_samples_leaf': 8, 'max_features': 'log2'}. Best is trial 20 with value: 0.7247191011235955.\n",
            "[I 2025-01-15 15:54:15,648] Trial 26 finished with value: 0.6934097421203438 and parameters: {'n_estimators': 300, 'max_depth': 10, 'min_samples_split': 5, 'min_samples_leaf': 1, 'max_features': None}. Best is trial 20 with value: 0.7247191011235955.\n",
            "[I 2025-01-15 15:54:25,524] Trial 27 finished with value: 0.6379310344827587 and parameters: {'n_estimators': 450, 'max_depth': 14, 'min_samples_split': 11, 'min_samples_leaf': 19, 'max_features': None}. Best is trial 20 with value: 0.7247191011235955.\n",
            "[I 2025-01-15 15:54:29,814] Trial 28 finished with value: 0.5897435897435898 and parameters: {'n_estimators': 350, 'max_depth': 5, 'min_samples_split': 9, 'min_samples_leaf': 7, 'max_features': None}. Best is trial 20 with value: 0.7247191011235955.\n",
            "[I 2025-01-15 15:54:33,142] Trial 29 finished with value: 0.5578231292517006 and parameters: {'n_estimators': 500, 'max_depth': 7, 'min_samples_split': 13, 'min_samples_leaf': 3, 'max_features': 'log2'}. Best is trial 20 with value: 0.7247191011235955.\n",
            "[I 2025-01-15 15:54:50,552] Trial 30 finished with value: 0.7226890756302521 and parameters: {'n_estimators': 600, 'max_depth': 18, 'min_samples_split': 10, 'min_samples_leaf': 3, 'max_features': None}. Best is trial 20 with value: 0.7247191011235955.\n",
            "[I 2025-01-15 15:55:07,493] Trial 31 finished with value: 0.7226890756302521 and parameters: {'n_estimators': 600, 'max_depth': 18, 'min_samples_split': 10, 'min_samples_leaf': 3, 'max_features': None}. Best is trial 20 with value: 0.7247191011235955.\n",
            "[I 2025-01-15 15:55:24,576] Trial 32 finished with value: 0.704225352112676 and parameters: {'n_estimators': 650, 'max_depth': 15, 'min_samples_split': 12, 'min_samples_leaf': 5, 'max_features': None}. Best is trial 20 with value: 0.7247191011235955.\n",
            "[I 2025-01-15 15:55:44,621] Trial 33 finished with value: 0.6761363636363636 and parameters: {'n_estimators': 850, 'max_depth': 12, 'min_samples_split': 7, 'min_samples_leaf': 10, 'max_features': None}. Best is trial 20 with value: 0.7247191011235955.\n",
            "[I 2025-01-15 15:55:56,898] Trial 34 finished with value: 0.6875 and parameters: {'n_estimators': 550, 'max_depth': 10, 'min_samples_split': 6, 'min_samples_leaf': 5, 'max_features': None}. Best is trial 20 with value: 0.7247191011235955.\n",
            "[I 2025-01-15 15:56:15,465] Trial 35 finished with value: 0.7226890756302521 and parameters: {'n_estimators': 650, 'max_depth': 17, 'min_samples_split': 10, 'min_samples_leaf': 2, 'max_features': None}. Best is trial 20 with value: 0.7247191011235955.\n",
            "[I 2025-01-15 15:56:19,161] Trial 36 finished with value: 0.5980707395498392 and parameters: {'n_estimators': 500, 'max_depth': 11, 'min_samples_split': 8, 'min_samples_leaf': 12, 'max_features': 'sqrt'}. Best is trial 20 with value: 0.7247191011235955.\n",
            "[I 2025-01-15 15:56:26,011] Trial 37 finished with value: 0.654320987654321 and parameters: {'n_estimators': 800, 'max_depth': 15, 'min_samples_split': 2, 'min_samples_leaf': 7, 'max_features': 'log2'}. Best is trial 20 with value: 0.7247191011235955.\n",
            "[I 2025-01-15 15:56:39,226] Trial 38 finished with value: 0.6495726495726496 and parameters: {'n_estimators': 600, 'max_depth': 18, 'min_samples_split': 12, 'min_samples_leaf': 17, 'max_features': None}. Best is trial 20 with value: 0.7247191011235955.\n",
            "[I 2025-01-15 15:56:42,816] Trial 39 finished with value: 0.6369426751592356 and parameters: {'n_estimators': 550, 'max_depth': 9, 'min_samples_split': 5, 'min_samples_leaf': 2, 'max_features': 'sqrt'}. Best is trial 20 with value: 0.7247191011235955.\n",
            "[I 2025-01-15 15:56:52,855] Trial 40 finished with value: 0.6666666666666666 and parameters: {'n_estimators': 450, 'max_depth': 10, 'min_samples_split': 8, 'min_samples_leaf': 7, 'max_features': None}. Best is trial 20 with value: 0.7247191011235955.\n",
            "[I 2025-01-15 15:57:09,661] Trial 41 finished with value: 0.7226890756302521 and parameters: {'n_estimators': 600, 'max_depth': 17, 'min_samples_split': 10, 'min_samples_leaf': 3, 'max_features': None}. Best is trial 20 with value: 0.7247191011235955.\n",
            "[I 2025-01-15 15:57:28,847] Trial 42 finished with value: 0.7206703910614525 and parameters: {'n_estimators': 650, 'max_depth': 19, 'min_samples_split': 9, 'min_samples_leaf': 3, 'max_features': None}. Best is trial 20 with value: 0.7247191011235955.\n",
            "[I 2025-01-15 15:57:44,992] Trial 43 finished with value: 0.704225352112676 and parameters: {'n_estimators': 600, 'max_depth': 19, 'min_samples_split': 11, 'min_samples_leaf': 5, 'max_features': None}. Best is trial 20 with value: 0.7247191011235955.\n",
            "[I 2025-01-15 15:57:59,523] Trial 44 finished with value: 0.7150837988826816 and parameters: {'n_estimators': 500, 'max_depth': 18, 'min_samples_split': 13, 'min_samples_leaf': 2, 'max_features': None}. Best is trial 20 with value: 0.7247191011235955.\n",
            "[I 2025-01-15 15:58:05,812] Trial 45 finished with value: 0.6646341463414634 and parameters: {'n_estimators': 750, 'max_depth': 16, 'min_samples_split': 10, 'min_samples_leaf': 6, 'max_features': 'sqrt'}. Best is trial 20 with value: 0.7247191011235955.\n",
            "[I 2025-01-15 15:58:13,110] Trial 46 finished with value: 0.7058823529411765 and parameters: {'n_estimators': 700, 'max_depth': 18, 'min_samples_split': 11, 'min_samples_leaf': 1, 'max_features': 'log2'}. Best is trial 20 with value: 0.7247191011235955.\n",
            "[I 2025-01-15 15:58:33,060] Trial 47 finished with value: 0.7175141242937854 and parameters: {'n_estimators': 550, 'max_depth': 16, 'min_samples_split': 9, 'min_samples_leaf': 4, 'max_features': None}. Best is trial 20 with value: 0.7247191011235955.\n",
            "[I 2025-01-15 15:58:50,531] Trial 48 finished with value: 0.7262569832402235 and parameters: {'n_estimators': 650, 'max_depth': 13, 'min_samples_split': 14, 'min_samples_leaf': 3, 'max_features': None}. Best is trial 48 with value: 0.7262569832402235.\n",
            "[I 2025-01-15 15:59:12,458] Trial 49 finished with value: 0.6914285714285714 and parameters: {'n_estimators': 900, 'max_depth': 13, 'min_samples_split': 14, 'min_samples_leaf': 6, 'max_features': None}. Best is trial 48 with value: 0.7262569832402235.\n"
          ]
        },
        {
          "output_type": "stream",
          "name": "stdout",
          "text": [
            "Best hyperparameters:  {'n_estimators': 650, 'max_depth': 13, 'min_samples_split': 14, 'min_samples_leaf': 3, 'max_features': None}\n",
            "Best F1-score:  0.7262569832402235\n"
          ]
        }
      ]
    },
    {
      "cell_type": "code",
      "source": [
        "model_rf = RandomForestClassifier(\n",
        "        n_estimators=650,\n",
        "        max_depth=13,\n",
        "        min_samples_split=14,\n",
        "        min_samples_leaf=3,\n",
        "        max_features=None,\n",
        "        random_state=42\n",
        "    )\n",
        "\n",
        "model_rf.fit(X_train_rf, y_train_rf)"
      ],
      "metadata": {
        "colab": {
          "base_uri": "https://localhost:8080/",
          "height": 97
        },
        "id": "WksKsMsppiiS",
        "outputId": "8b9bc176-9722-4efb-bb6e-a424f6efc5fa"
      },
      "execution_count": null,
      "outputs": [
        {
          "output_type": "execute_result",
          "data": {
            "text/plain": [
              "RandomForestClassifier(max_depth=13, max_features=None, min_samples_leaf=3,\n",
              "                       min_samples_split=14, n_estimators=650, random_state=42)"
            ],
            "text/html": [
              "<style>#sk-container-id-2 {\n",
              "  /* Definition of color scheme common for light and dark mode */\n",
              "  --sklearn-color-text: #000;\n",
              "  --sklearn-color-text-muted: #666;\n",
              "  --sklearn-color-line: gray;\n",
              "  /* Definition of color scheme for unfitted estimators */\n",
              "  --sklearn-color-unfitted-level-0: #fff5e6;\n",
              "  --sklearn-color-unfitted-level-1: #f6e4d2;\n",
              "  --sklearn-color-unfitted-level-2: #ffe0b3;\n",
              "  --sklearn-color-unfitted-level-3: chocolate;\n",
              "  /* Definition of color scheme for fitted estimators */\n",
              "  --sklearn-color-fitted-level-0: #f0f8ff;\n",
              "  --sklearn-color-fitted-level-1: #d4ebff;\n",
              "  --sklearn-color-fitted-level-2: #b3dbfd;\n",
              "  --sklearn-color-fitted-level-3: cornflowerblue;\n",
              "\n",
              "  /* Specific color for light theme */\n",
              "  --sklearn-color-text-on-default-background: var(--sg-text-color, var(--theme-code-foreground, var(--jp-content-font-color1, black)));\n",
              "  --sklearn-color-background: var(--sg-background-color, var(--theme-background, var(--jp-layout-color0, white)));\n",
              "  --sklearn-color-border-box: var(--sg-text-color, var(--theme-code-foreground, var(--jp-content-font-color1, black)));\n",
              "  --sklearn-color-icon: #696969;\n",
              "\n",
              "  @media (prefers-color-scheme: dark) {\n",
              "    /* Redefinition of color scheme for dark theme */\n",
              "    --sklearn-color-text-on-default-background: var(--sg-text-color, var(--theme-code-foreground, var(--jp-content-font-color1, white)));\n",
              "    --sklearn-color-background: var(--sg-background-color, var(--theme-background, var(--jp-layout-color0, #111)));\n",
              "    --sklearn-color-border-box: var(--sg-text-color, var(--theme-code-foreground, var(--jp-content-font-color1, white)));\n",
              "    --sklearn-color-icon: #878787;\n",
              "  }\n",
              "}\n",
              "\n",
              "#sk-container-id-2 {\n",
              "  color: var(--sklearn-color-text);\n",
              "}\n",
              "\n",
              "#sk-container-id-2 pre {\n",
              "  padding: 0;\n",
              "}\n",
              "\n",
              "#sk-container-id-2 input.sk-hidden--visually {\n",
              "  border: 0;\n",
              "  clip: rect(1px 1px 1px 1px);\n",
              "  clip: rect(1px, 1px, 1px, 1px);\n",
              "  height: 1px;\n",
              "  margin: -1px;\n",
              "  overflow: hidden;\n",
              "  padding: 0;\n",
              "  position: absolute;\n",
              "  width: 1px;\n",
              "}\n",
              "\n",
              "#sk-container-id-2 div.sk-dashed-wrapped {\n",
              "  border: 1px dashed var(--sklearn-color-line);\n",
              "  margin: 0 0.4em 0.5em 0.4em;\n",
              "  box-sizing: border-box;\n",
              "  padding-bottom: 0.4em;\n",
              "  background-color: var(--sklearn-color-background);\n",
              "}\n",
              "\n",
              "#sk-container-id-2 div.sk-container {\n",
              "  /* jupyter's `normalize.less` sets `[hidden] { display: none; }`\n",
              "     but bootstrap.min.css set `[hidden] { display: none !important; }`\n",
              "     so we also need the `!important` here to be able to override the\n",
              "     default hidden behavior on the sphinx rendered scikit-learn.org.\n",
              "     See: https://github.com/scikit-learn/scikit-learn/issues/21755 */\n",
              "  display: inline-block !important;\n",
              "  position: relative;\n",
              "}\n",
              "\n",
              "#sk-container-id-2 div.sk-text-repr-fallback {\n",
              "  display: none;\n",
              "}\n",
              "\n",
              "div.sk-parallel-item,\n",
              "div.sk-serial,\n",
              "div.sk-item {\n",
              "  /* draw centered vertical line to link estimators */\n",
              "  background-image: linear-gradient(var(--sklearn-color-text-on-default-background), var(--sklearn-color-text-on-default-background));\n",
              "  background-size: 2px 100%;\n",
              "  background-repeat: no-repeat;\n",
              "  background-position: center center;\n",
              "}\n",
              "\n",
              "/* Parallel-specific style estimator block */\n",
              "\n",
              "#sk-container-id-2 div.sk-parallel-item::after {\n",
              "  content: \"\";\n",
              "  width: 100%;\n",
              "  border-bottom: 2px solid var(--sklearn-color-text-on-default-background);\n",
              "  flex-grow: 1;\n",
              "}\n",
              "\n",
              "#sk-container-id-2 div.sk-parallel {\n",
              "  display: flex;\n",
              "  align-items: stretch;\n",
              "  justify-content: center;\n",
              "  background-color: var(--sklearn-color-background);\n",
              "  position: relative;\n",
              "}\n",
              "\n",
              "#sk-container-id-2 div.sk-parallel-item {\n",
              "  display: flex;\n",
              "  flex-direction: column;\n",
              "}\n",
              "\n",
              "#sk-container-id-2 div.sk-parallel-item:first-child::after {\n",
              "  align-self: flex-end;\n",
              "  width: 50%;\n",
              "}\n",
              "\n",
              "#sk-container-id-2 div.sk-parallel-item:last-child::after {\n",
              "  align-self: flex-start;\n",
              "  width: 50%;\n",
              "}\n",
              "\n",
              "#sk-container-id-2 div.sk-parallel-item:only-child::after {\n",
              "  width: 0;\n",
              "}\n",
              "\n",
              "/* Serial-specific style estimator block */\n",
              "\n",
              "#sk-container-id-2 div.sk-serial {\n",
              "  display: flex;\n",
              "  flex-direction: column;\n",
              "  align-items: center;\n",
              "  background-color: var(--sklearn-color-background);\n",
              "  padding-right: 1em;\n",
              "  padding-left: 1em;\n",
              "}\n",
              "\n",
              "\n",
              "/* Toggleable style: style used for estimator/Pipeline/ColumnTransformer box that is\n",
              "clickable and can be expanded/collapsed.\n",
              "- Pipeline and ColumnTransformer use this feature and define the default style\n",
              "- Estimators will overwrite some part of the style using the `sk-estimator` class\n",
              "*/\n",
              "\n",
              "/* Pipeline and ColumnTransformer style (default) */\n",
              "\n",
              "#sk-container-id-2 div.sk-toggleable {\n",
              "  /* Default theme specific background. It is overwritten whether we have a\n",
              "  specific estimator or a Pipeline/ColumnTransformer */\n",
              "  background-color: var(--sklearn-color-background);\n",
              "}\n",
              "\n",
              "/* Toggleable label */\n",
              "#sk-container-id-2 label.sk-toggleable__label {\n",
              "  cursor: pointer;\n",
              "  display: flex;\n",
              "  width: 100%;\n",
              "  margin-bottom: 0;\n",
              "  padding: 0.5em;\n",
              "  box-sizing: border-box;\n",
              "  text-align: center;\n",
              "  align-items: start;\n",
              "  justify-content: space-between;\n",
              "  gap: 0.5em;\n",
              "}\n",
              "\n",
              "#sk-container-id-2 label.sk-toggleable__label .caption {\n",
              "  font-size: 0.6rem;\n",
              "  font-weight: lighter;\n",
              "  color: var(--sklearn-color-text-muted);\n",
              "}\n",
              "\n",
              "#sk-container-id-2 label.sk-toggleable__label-arrow:before {\n",
              "  /* Arrow on the left of the label */\n",
              "  content: \"▸\";\n",
              "  float: left;\n",
              "  margin-right: 0.25em;\n",
              "  color: var(--sklearn-color-icon);\n",
              "}\n",
              "\n",
              "#sk-container-id-2 label.sk-toggleable__label-arrow:hover:before {\n",
              "  color: var(--sklearn-color-text);\n",
              "}\n",
              "\n",
              "/* Toggleable content - dropdown */\n",
              "\n",
              "#sk-container-id-2 div.sk-toggleable__content {\n",
              "  max-height: 0;\n",
              "  max-width: 0;\n",
              "  overflow: hidden;\n",
              "  text-align: left;\n",
              "  /* unfitted */\n",
              "  background-color: var(--sklearn-color-unfitted-level-0);\n",
              "}\n",
              "\n",
              "#sk-container-id-2 div.sk-toggleable__content.fitted {\n",
              "  /* fitted */\n",
              "  background-color: var(--sklearn-color-fitted-level-0);\n",
              "}\n",
              "\n",
              "#sk-container-id-2 div.sk-toggleable__content pre {\n",
              "  margin: 0.2em;\n",
              "  border-radius: 0.25em;\n",
              "  color: var(--sklearn-color-text);\n",
              "  /* unfitted */\n",
              "  background-color: var(--sklearn-color-unfitted-level-0);\n",
              "}\n",
              "\n",
              "#sk-container-id-2 div.sk-toggleable__content.fitted pre {\n",
              "  /* unfitted */\n",
              "  background-color: var(--sklearn-color-fitted-level-0);\n",
              "}\n",
              "\n",
              "#sk-container-id-2 input.sk-toggleable__control:checked~div.sk-toggleable__content {\n",
              "  /* Expand drop-down */\n",
              "  max-height: 200px;\n",
              "  max-width: 100%;\n",
              "  overflow: auto;\n",
              "}\n",
              "\n",
              "#sk-container-id-2 input.sk-toggleable__control:checked~label.sk-toggleable__label-arrow:before {\n",
              "  content: \"▾\";\n",
              "}\n",
              "\n",
              "/* Pipeline/ColumnTransformer-specific style */\n",
              "\n",
              "#sk-container-id-2 div.sk-label input.sk-toggleable__control:checked~label.sk-toggleable__label {\n",
              "  color: var(--sklearn-color-text);\n",
              "  background-color: var(--sklearn-color-unfitted-level-2);\n",
              "}\n",
              "\n",
              "#sk-container-id-2 div.sk-label.fitted input.sk-toggleable__control:checked~label.sk-toggleable__label {\n",
              "  background-color: var(--sklearn-color-fitted-level-2);\n",
              "}\n",
              "\n",
              "/* Estimator-specific style */\n",
              "\n",
              "/* Colorize estimator box */\n",
              "#sk-container-id-2 div.sk-estimator input.sk-toggleable__control:checked~label.sk-toggleable__label {\n",
              "  /* unfitted */\n",
              "  background-color: var(--sklearn-color-unfitted-level-2);\n",
              "}\n",
              "\n",
              "#sk-container-id-2 div.sk-estimator.fitted input.sk-toggleable__control:checked~label.sk-toggleable__label {\n",
              "  /* fitted */\n",
              "  background-color: var(--sklearn-color-fitted-level-2);\n",
              "}\n",
              "\n",
              "#sk-container-id-2 div.sk-label label.sk-toggleable__label,\n",
              "#sk-container-id-2 div.sk-label label {\n",
              "  /* The background is the default theme color */\n",
              "  color: var(--sklearn-color-text-on-default-background);\n",
              "}\n",
              "\n",
              "/* On hover, darken the color of the background */\n",
              "#sk-container-id-2 div.sk-label:hover label.sk-toggleable__label {\n",
              "  color: var(--sklearn-color-text);\n",
              "  background-color: var(--sklearn-color-unfitted-level-2);\n",
              "}\n",
              "\n",
              "/* Label box, darken color on hover, fitted */\n",
              "#sk-container-id-2 div.sk-label.fitted:hover label.sk-toggleable__label.fitted {\n",
              "  color: var(--sklearn-color-text);\n",
              "  background-color: var(--sklearn-color-fitted-level-2);\n",
              "}\n",
              "\n",
              "/* Estimator label */\n",
              "\n",
              "#sk-container-id-2 div.sk-label label {\n",
              "  font-family: monospace;\n",
              "  font-weight: bold;\n",
              "  display: inline-block;\n",
              "  line-height: 1.2em;\n",
              "}\n",
              "\n",
              "#sk-container-id-2 div.sk-label-container {\n",
              "  text-align: center;\n",
              "}\n",
              "\n",
              "/* Estimator-specific */\n",
              "#sk-container-id-2 div.sk-estimator {\n",
              "  font-family: monospace;\n",
              "  border: 1px dotted var(--sklearn-color-border-box);\n",
              "  border-radius: 0.25em;\n",
              "  box-sizing: border-box;\n",
              "  margin-bottom: 0.5em;\n",
              "  /* unfitted */\n",
              "  background-color: var(--sklearn-color-unfitted-level-0);\n",
              "}\n",
              "\n",
              "#sk-container-id-2 div.sk-estimator.fitted {\n",
              "  /* fitted */\n",
              "  background-color: var(--sklearn-color-fitted-level-0);\n",
              "}\n",
              "\n",
              "/* on hover */\n",
              "#sk-container-id-2 div.sk-estimator:hover {\n",
              "  /* unfitted */\n",
              "  background-color: var(--sklearn-color-unfitted-level-2);\n",
              "}\n",
              "\n",
              "#sk-container-id-2 div.sk-estimator.fitted:hover {\n",
              "  /* fitted */\n",
              "  background-color: var(--sklearn-color-fitted-level-2);\n",
              "}\n",
              "\n",
              "/* Specification for estimator info (e.g. \"i\" and \"?\") */\n",
              "\n",
              "/* Common style for \"i\" and \"?\" */\n",
              "\n",
              ".sk-estimator-doc-link,\n",
              "a:link.sk-estimator-doc-link,\n",
              "a:visited.sk-estimator-doc-link {\n",
              "  float: right;\n",
              "  font-size: smaller;\n",
              "  line-height: 1em;\n",
              "  font-family: monospace;\n",
              "  background-color: var(--sklearn-color-background);\n",
              "  border-radius: 1em;\n",
              "  height: 1em;\n",
              "  width: 1em;\n",
              "  text-decoration: none !important;\n",
              "  margin-left: 0.5em;\n",
              "  text-align: center;\n",
              "  /* unfitted */\n",
              "  border: var(--sklearn-color-unfitted-level-1) 1pt solid;\n",
              "  color: var(--sklearn-color-unfitted-level-1);\n",
              "}\n",
              "\n",
              ".sk-estimator-doc-link.fitted,\n",
              "a:link.sk-estimator-doc-link.fitted,\n",
              "a:visited.sk-estimator-doc-link.fitted {\n",
              "  /* fitted */\n",
              "  border: var(--sklearn-color-fitted-level-1) 1pt solid;\n",
              "  color: var(--sklearn-color-fitted-level-1);\n",
              "}\n",
              "\n",
              "/* On hover */\n",
              "div.sk-estimator:hover .sk-estimator-doc-link:hover,\n",
              ".sk-estimator-doc-link:hover,\n",
              "div.sk-label-container:hover .sk-estimator-doc-link:hover,\n",
              ".sk-estimator-doc-link:hover {\n",
              "  /* unfitted */\n",
              "  background-color: var(--sklearn-color-unfitted-level-3);\n",
              "  color: var(--sklearn-color-background);\n",
              "  text-decoration: none;\n",
              "}\n",
              "\n",
              "div.sk-estimator.fitted:hover .sk-estimator-doc-link.fitted:hover,\n",
              ".sk-estimator-doc-link.fitted:hover,\n",
              "div.sk-label-container:hover .sk-estimator-doc-link.fitted:hover,\n",
              ".sk-estimator-doc-link.fitted:hover {\n",
              "  /* fitted */\n",
              "  background-color: var(--sklearn-color-fitted-level-3);\n",
              "  color: var(--sklearn-color-background);\n",
              "  text-decoration: none;\n",
              "}\n",
              "\n",
              "/* Span, style for the box shown on hovering the info icon */\n",
              ".sk-estimator-doc-link span {\n",
              "  display: none;\n",
              "  z-index: 9999;\n",
              "  position: relative;\n",
              "  font-weight: normal;\n",
              "  right: .2ex;\n",
              "  padding: .5ex;\n",
              "  margin: .5ex;\n",
              "  width: min-content;\n",
              "  min-width: 20ex;\n",
              "  max-width: 50ex;\n",
              "  color: var(--sklearn-color-text);\n",
              "  box-shadow: 2pt 2pt 4pt #999;\n",
              "  /* unfitted */\n",
              "  background: var(--sklearn-color-unfitted-level-0);\n",
              "  border: .5pt solid var(--sklearn-color-unfitted-level-3);\n",
              "}\n",
              "\n",
              ".sk-estimator-doc-link.fitted span {\n",
              "  /* fitted */\n",
              "  background: var(--sklearn-color-fitted-level-0);\n",
              "  border: var(--sklearn-color-fitted-level-3);\n",
              "}\n",
              "\n",
              ".sk-estimator-doc-link:hover span {\n",
              "  display: block;\n",
              "}\n",
              "\n",
              "/* \"?\"-specific style due to the `<a>` HTML tag */\n",
              "\n",
              "#sk-container-id-2 a.estimator_doc_link {\n",
              "  float: right;\n",
              "  font-size: 1rem;\n",
              "  line-height: 1em;\n",
              "  font-family: monospace;\n",
              "  background-color: var(--sklearn-color-background);\n",
              "  border-radius: 1rem;\n",
              "  height: 1rem;\n",
              "  width: 1rem;\n",
              "  text-decoration: none;\n",
              "  /* unfitted */\n",
              "  color: var(--sklearn-color-unfitted-level-1);\n",
              "  border: var(--sklearn-color-unfitted-level-1) 1pt solid;\n",
              "}\n",
              "\n",
              "#sk-container-id-2 a.estimator_doc_link.fitted {\n",
              "  /* fitted */\n",
              "  border: var(--sklearn-color-fitted-level-1) 1pt solid;\n",
              "  color: var(--sklearn-color-fitted-level-1);\n",
              "}\n",
              "\n",
              "/* On hover */\n",
              "#sk-container-id-2 a.estimator_doc_link:hover {\n",
              "  /* unfitted */\n",
              "  background-color: var(--sklearn-color-unfitted-level-3);\n",
              "  color: var(--sklearn-color-background);\n",
              "  text-decoration: none;\n",
              "}\n",
              "\n",
              "#sk-container-id-2 a.estimator_doc_link.fitted:hover {\n",
              "  /* fitted */\n",
              "  background-color: var(--sklearn-color-fitted-level-3);\n",
              "}\n",
              "</style><div id=\"sk-container-id-2\" class=\"sk-top-container\"><div class=\"sk-text-repr-fallback\"><pre>RandomForestClassifier(max_depth=13, max_features=None, min_samples_leaf=3,\n",
              "                       min_samples_split=14, n_estimators=650, random_state=42)</pre><b>In a Jupyter environment, please rerun this cell to show the HTML representation or trust the notebook. <br />On GitHub, the HTML representation is unable to render, please try loading this page with nbviewer.org.</b></div><div class=\"sk-container\" hidden><div class=\"sk-item\"><div class=\"sk-estimator fitted sk-toggleable\"><input class=\"sk-toggleable__control sk-hidden--visually\" id=\"sk-estimator-id-2\" type=\"checkbox\" checked><label for=\"sk-estimator-id-2\" class=\"sk-toggleable__label fitted sk-toggleable__label-arrow\"><div><div>RandomForestClassifier</div></div><div><a class=\"sk-estimator-doc-link fitted\" rel=\"noreferrer\" target=\"_blank\" href=\"https://scikit-learn.org/1.6/modules/generated/sklearn.ensemble.RandomForestClassifier.html\">?<span>Documentation for RandomForestClassifier</span></a><span class=\"sk-estimator-doc-link fitted\">i<span>Fitted</span></span></div></label><div class=\"sk-toggleable__content fitted\"><pre>RandomForestClassifier(max_depth=13, max_features=None, min_samples_leaf=3,\n",
              "                       min_samples_split=14, n_estimators=650, random_state=42)</pre></div> </div></div></div></div>"
            ]
          },
          "metadata": {},
          "execution_count": 19
        }
      ]
    },
    {
      "cell_type": "markdown",
      "source": [
        "***Confusion matrix***"
      ],
      "metadata": {
        "id": "Dn1lPqZupwNE"
      }
    },
    {
      "cell_type": "code",
      "source": [
        "y_train_pred = model_rf.predict(X_train_rf)\n",
        "y_val_pred = model_rf.predict(X_val_rf)\n",
        "y_test_pred = model_rf.predict(X_test_rf)"
      ],
      "metadata": {
        "id": "oo7N27HXpv8Y"
      },
      "execution_count": null,
      "outputs": []
    },
    {
      "cell_type": "code",
      "source": [
        "fig, axes = plt.subplots(1, 3, figsize=(18, 6))\n",
        "\n",
        "#Calculate confusion matrix for each dataset\n",
        "cm_train = confusion_matrix(y_train_rf, y_train_pred)\n",
        "cm_val = confusion_matrix(y_val_rf, y_val_pred)\n",
        "cm_test = confusion_matrix(y_test_rf, y_test_pred)\n",
        "\n",
        "# Plot heatmap for each confusion matrix\n",
        "sns.heatmap(cm_train, annot=True, fmt='d', cmap='Blues', cbar=False, ax=axes[0])\n",
        "axes[0].set_xlabel('Predicted')\n",
        "axes[0].set_ylabel('Actual')\n",
        "axes[0].set_title('Train Confusion Matrix')\n",
        "\n",
        "sns.heatmap(cm_val, annot=True, fmt='d', cmap='Blues', cbar=False, ax=axes[1])\n",
        "axes[1].set_xlabel('Predicted')\n",
        "axes[1].set_ylabel('Actual')\n",
        "axes[1].set_title('Validation Confusion Matrix')\n",
        "\n",
        "sns.heatmap(cm_test, annot=True, fmt='d', cmap='Blues', cbar=False, ax=axes[2])\n",
        "axes[2].set_xlabel('Predicted')\n",
        "axes[2].set_ylabel('Actual')\n",
        "axes[2].set_title('Test Confusion Matrix')\n",
        "\n",
        "#Show plot\n",
        "plt.tight_layout()\n",
        "plt.show()"
      ],
      "metadata": {
        "colab": {
          "base_uri": "https://localhost:8080/",
          "height": 299
        },
        "id": "Pi3kE3Y8pya5",
        "outputId": "d5425629-db7d-431b-f944-a1883b4c27bb"
      },
      "execution_count": null,
      "outputs": [
        {
          "output_type": "display_data",
          "data": {
            "text/plain": [
              "<Figure size 1800x600 with 3 Axes>"
            ],
            "image/png": "[encoded data removed]"
          },
          "metadata": {}
        }
      ]
    },
    {
      "cell_type": "code",
      "source": [
        "print(\"F1-score của tập train: \", f1_score(y_train_rf, y_train_pred))\n",
        "print(\"F1-score của tập val: \", f1_score(y_val_rf, y_val_pred))\n",
        "print(\"F1-score của tập test: \", f1_score(y_test_rf, y_test_pred))"
      ],
      "metadata": {
        "colab": {
          "base_uri": "https://localhost:8080/"
        },
        "id": "vij_uxJEp4qJ",
        "outputId": "a010db6d-9c1e-4910-c9e1-b1fd0dfe1f8c"
      },
      "execution_count": null,
      "outputs": [
        {
          "output_type": "stream",
          "name": "stdout",
          "text": [
            "F1-score của tập train:  0.8498498498498499\n",
            "F1-score của tập val:  0.7262569832402235\n",
            "F1-score của tập test:  0.7094017094017094\n"
          ]
        }
      ]
    },
    {
      "cell_type": "markdown",
      "source": [
        "## CatBoost"
      ],
      "metadata": {
        "id": "3P_xzYgnp7Hq"
      }
    },
    {
      "cell_type": "code",
      "source": [
        "pip install catboost"
      ],
      "metadata": {
        "colab": {
          "base_uri": "https://localhost:8080/"
        },
        "id": "VAefC9wPtd89",
        "outputId": "3df45bbf-1cc8-4928-c4b4-af2efca0953f"
      },
      "execution_count": 14,
      "outputs": [
        {
          "output_type": "stream",
          "name": "stdout",
          "text": [
            "Collecting catboost\n",
            "  Downloading catboost-1.2.7-cp311-cp311-manylinux2014_x86_64.whl.metadata (1.2 kB)\n",
            "Requirement already satisfied: graphviz in /usr/local/lib/python3.11/dist-packages (from catboost) (0.20.3)\n",
            "Requirement already satisfied: matplotlib in /usr/local/lib/python3.11/dist-packages (from catboost) (3.10.0)\n",
            "Requirement already satisfied: numpy<2.0,>=1.16.0 in /usr/local/lib/python3.11/dist-packages (from catboost) (1.26.4)\n",
            "Requirement already satisfied: pandas>=0.24 in /usr/local/lib/python3.11/dist-packages (from catboost) (2.2.2)\n",
            "Requirement already satisfied: scipy in /usr/local/lib/python3.11/dist-packages (from catboost) (1.13.1)\n",
            "Requirement already satisfied: plotly in /usr/local/lib/python3.11/dist-packages (from catboost) (5.24.1)\n",
            "Requirement already satisfied: six in /usr/local/lib/python3.11/dist-packages (from catboost) (1.17.0)\n",
            "Requirement already satisfied: python-dateutil>=2.8.2 in /usr/local/lib/python3.11/dist-packages (from pandas>=0.24->catboost) (2.8.2)\n",
            "Requirement already satisfied: pytz>=2020.1 in /usr/local/lib/python3.11/dist-packages (from pandas>=0.24->catboost) (2024.2)\n",
            "Requirement already satisfied: tzdata>=2022.7 in /usr/local/lib/python3.11/dist-packages (from pandas>=0.24->catboost) (2024.2)\n",
            "Requirement already satisfied: contourpy>=1.0.1 in /usr/local/lib/python3.11/dist-packages (from matplotlib->catboost) (1.3.1)\n",
            "Requirement already satisfied: cycler>=0.10 in /usr/local/lib/python3.11/dist-packages (from matplotlib->catboost) (0.12.1)\n",
            "Requirement already satisfied: fonttools>=4.22.0 in /usr/local/lib/python3.11/dist-packages (from matplotlib->catboost) (4.55.3)\n",
            "Requirement already satisfied: kiwisolver>=1.3.1 in /usr/local/lib/python3.11/dist-packages (from matplotlib->catboost) (1.4.8)\n",
            "Requirement already satisfied: packaging>=20.0 in /usr/local/lib/python3.11/dist-packages (from matplotlib->catboost) (24.2)\n",
            "Requirement already satisfied: pillow>=8 in /usr/local/lib/python3.11/dist-packages (from matplotlib->catboost) (11.1.0)\n",
            "Requirement already satisfied: pyparsing>=2.3.1 in /usr/local/lib/python3.11/dist-packages (from matplotlib->catboost) (3.2.1)\n",
            "Requirement already satisfied: tenacity>=6.2.0 in /usr/local/lib/python3.11/dist-packages (from plotly->catboost) (9.0.0)\n",
            "Downloading catboost-1.2.7-cp311-cp311-manylinux2014_x86_64.whl (98.7 MB)\n",
            "\u001b[2K   \u001b[90m━━━━━━━━━━━━━━━━━━━━━━━━━━━━━━━━━━━━━━━━\u001b[0m \u001b[32m98.7/98.7 MB\u001b[0m \u001b[31m8.4 MB/s\u001b[0m eta \u001b[36m0:00:00\u001b[0m\n",
            "\u001b[?25hInstalling collected packages: catboost\n",
            "Successfully installed catboost-1.2.7\n"
          ]
        }
      ]
    },
    {
      "cell_type": "code",
      "source": [
        "from catboost import CatBoostClassifier"
      ],
      "metadata": {
        "id": "8NdqfgTrp7uu"
      },
      "execution_count": 15,
      "outputs": []
    },
    {
      "cell_type": "code",
      "source": [
        "X_train_cb = train.drop(['BAD'], axis='columns')\n",
        "y_train_cb = train['BAD']\n",
        "\n",
        "X_val_cb = val.drop(['BAD'], axis='columns')\n",
        "y_val_cb = val['BAD']\n",
        "\n",
        "X_test_cb = test.drop(['BAD'], axis='columns')\n",
        "y_test_cb = test['BAD']"
      ],
      "metadata": {
        "id": "ZgGu4VH_p9k8"
      },
      "execution_count": 16,
      "outputs": []
    },
    {
      "cell_type": "code",
      "source": [
        "def objective(trial):\n",
        "\n",
        "    iterations=trial.suggest_int('iterations', 100, 1000, step = 50)\n",
        "    depth=trial.suggest_int('depth', 4, 10)\n",
        "    learning_rate=trial.suggest_float('learning_rate', 0.01, 0.2, step = 0.01)\n",
        "    l2_leaf_reg=trial.suggest_float('l2_leaf_reg', 1, 10, step=0.5)\n",
        "    bagging_temperature=trial.suggest_float('bagging_temperature', 0, 1, step=0.1)\n",
        "\n",
        "    model = CatBoostClassifier(\n",
        "        iterations=iterations,\n",
        "        depth=depth,\n",
        "        learning_rate=learning_rate,\n",
        "        l2_leaf_reg=l2_leaf_reg,\n",
        "        bagging_temperature=bagging_temperature,\n",
        "        cat_features=[3, 4],\n",
        "        verbose=0,\n",
        "        random_state=42,\n",
        "    )\n",
        "\n",
        "    # Train model\n",
        "    model.fit(X_train_cb, y_train_cb)\n",
        "\n",
        "    # Predict\n",
        "    y_val_pred = model.predict(X_val_cb)\n",
        "\n",
        "    # F1-score\n",
        "    f1 = f1_score(y_val_cb, y_val_pred)\n",
        "\n",
        "    return f1"
      ],
      "metadata": {
        "id": "eUsEtd3Gp_m1"
      },
      "execution_count": null,
      "outputs": []
    },
    {
      "cell_type": "code",
      "source": [
        "# Create Optuna study object\n",
        "study = optuna.create_study(direction='maximize')\n",
        "study.optimize(objective, n_trials=50)\n",
        "\n",
        "# Print the best result\n",
        "print(\"Best hyperparameters: \", study.best_trial.params)\n",
        "print(\"Best F1-score: \", study.best_value)"
      ],
      "metadata": {
        "colab": {
          "base_uri": "https://localhost:8080/"
        },
        "id": "wNc14fL3vVRw",
        "outputId": "b53244f0-a470-4458-dc07-e18a79163e14"
      },
      "execution_count": null,
      "outputs": [
        {
          "output_type": "stream",
          "name": "stderr",
          "text": [
            "[I 2025-01-15 16:59:37,929] A new study created in memory with name: no-name-8c04df2e-1256-4009-90b7-8850d53d3917\n",
            "[I 2025-01-15 16:59:52,435] Trial 0 finished with value: 0.8135593220338984 and parameters: {'iterations': 750, 'depth': 9, 'learning_rate': 0.18000000000000002, 'l2_leaf_reg': 4.0, 'bagging_temperature': 0.30000000000000004}. Best is trial 0 with value: 0.8135593220338984.\n",
            "[I 2025-01-15 16:59:59,142] Trial 1 finished with value: 0.7808988764044944 and parameters: {'iterations': 1000, 'depth': 5, 'learning_rate': 0.13, 'l2_leaf_reg': 9.5, 'bagging_temperature': 0.4}. Best is trial 0 with value: 0.8135593220338984.\n",
            "[I 2025-01-15 17:00:14,870] Trial 2 finished with value: 0.8112676056338028 and parameters: {'iterations': 650, 'depth': 10, 'learning_rate': 0.2, 'l2_leaf_reg': 6.5, 'bagging_temperature': 0.4}. Best is trial 0 with value: 0.8135593220338984.\n",
            "[I 2025-01-15 17:00:38,408] Trial 3 finished with value: 0.8011204481792717 and parameters: {'iterations': 950, 'depth': 10, 'learning_rate': 0.18000000000000002, 'l2_leaf_reg': 8.0, 'bagging_temperature': 0.6000000000000001}. Best is trial 0 with value: 0.8135593220338984.\n",
            "[I 2025-01-15 17:00:42,796] Trial 4 finished with value: 0.7818696883852692 and parameters: {'iterations': 750, 'depth': 6, 'learning_rate': 0.11, 'l2_leaf_reg': 4.0, 'bagging_temperature': 0.7000000000000001}. Best is trial 0 with value: 0.8135593220338984.\n",
            "[I 2025-01-15 17:00:44,053] Trial 5 finished with value: 0.7235294117647059 and parameters: {'iterations': 250, 'depth': 5, 'learning_rate': 0.060000000000000005, 'l2_leaf_reg': 5.0, 'bagging_temperature': 0.1}. Best is trial 0 with value: 0.8135593220338984.\n",
            "[I 2025-01-15 17:00:47,709] Trial 6 finished with value: 0.775623268698061 and parameters: {'iterations': 850, 'depth': 4, 'learning_rate': 0.12, 'l2_leaf_reg': 2.5, 'bagging_temperature': 0.2}. Best is trial 0 with value: 0.8135593220338984.\n",
            "[I 2025-01-15 17:00:47,959] Trial 7 finished with value: 0.6292834890965732 and parameters: {'iterations': 100, 'depth': 5, 'learning_rate': 0.06999999999999999, 'l2_leaf_reg': 3.5, 'bagging_temperature': 0.9}. Best is trial 0 with value: 0.8135593220338984.\n",
            "[I 2025-01-15 17:00:48,181] Trial 8 finished with value: 0.6296296296296297 and parameters: {'iterations': 100, 'depth': 4, 'learning_rate': 0.09999999999999999, 'l2_leaf_reg': 2.0, 'bagging_temperature': 0.6000000000000001}. Best is trial 0 with value: 0.8135593220338984.\n",
            "[I 2025-01-15 17:00:52,866] Trial 9 finished with value: 0.7235294117647059 and parameters: {'iterations': 200, 'depth': 9, 'learning_rate': 0.05, 'l2_leaf_reg': 8.5, 'bagging_temperature': 0.8}. Best is trial 0 with value: 0.8135593220338984.\n",
            "[I 2025-01-15 17:00:56,993] Trial 10 finished with value: 0.6707317073170732 and parameters: {'iterations': 450, 'depth': 8, 'learning_rate': 0.01, 'l2_leaf_reg': 1.0, 'bagging_temperature': 0.0}. Best is trial 0 with value: 0.8135593220338984.\n",
            "[I 2025-01-15 17:01:12,875] Trial 11 finished with value: 0.8112676056338028 and parameters: {'iterations': 650, 'depth': 10, 'learning_rate': 0.2, 'l2_leaf_reg': 6.5, 'bagging_temperature': 0.30000000000000004}. Best is trial 0 with value: 0.8135593220338984.\n",
            "[I 2025-01-15 17:01:19,389] Trial 12 finished with value: 0.8068181818181818 and parameters: {'iterations': 500, 'depth': 8, 'learning_rate': 0.16, 'l2_leaf_reg': 6.5, 'bagging_temperature': 0.4}. Best is trial 0 with value: 0.8135593220338984.\n",
            "[I 2025-01-15 17:01:31,085] Trial 13 finished with value: 0.7965616045845272 and parameters: {'iterations': 700, 'depth': 9, 'learning_rate': 0.16, 'l2_leaf_reg': 6.0, 'bagging_temperature': 0.30000000000000004}. Best is trial 0 with value: 0.8135593220338984.\n",
            "[I 2025-01-15 17:01:37,689] Trial 14 finished with value: 0.7806267806267806 and parameters: {'iterations': 400, 'depth': 9, 'learning_rate': 0.19, 'l2_leaf_reg': 4.5, 'bagging_temperature': 0.5}. Best is trial 0 with value: 0.8135593220338984.\n",
            "[I 2025-01-15 17:01:44,765] Trial 15 finished with value: 0.792022792022792 and parameters: {'iterations': 600, 'depth': 8, 'learning_rate': 0.16, 'l2_leaf_reg': 7.5, 'bagging_temperature': 0.2}. Best is trial 0 with value: 0.8135593220338984.\n",
            "[I 2025-01-15 17:02:05,188] Trial 16 finished with value: 0.8123249299719888 and parameters: {'iterations': 850, 'depth': 10, 'learning_rate': 0.14, 'l2_leaf_reg': 3.0, 'bagging_temperature': 0.5}. Best is trial 0 with value: 0.8135593220338984.\n",
            "[I 2025-01-15 17:02:19,683] Trial 17 finished with value: 0.7931034482758621 and parameters: {'iterations': 850, 'depth': 9, 'learning_rate': 0.14, 'l2_leaf_reg': 3.0, 'bagging_temperature': 1.0}. Best is trial 0 with value: 0.8135593220338984.\n",
            "[I 2025-01-15 17:02:26,829] Trial 18 finished with value: 0.8033707865168539 and parameters: {'iterations': 800, 'depth': 7, 'learning_rate': 0.17, 'l2_leaf_reg': 1.5, 'bagging_temperature': 0.5}. Best is trial 0 with value: 0.8135593220338984.\n",
            "[I 2025-01-15 17:02:33,103] Trial 19 finished with value: 0.7988826815642458 and parameters: {'iterations': 900, 'depth': 7, 'learning_rate': 0.14, 'l2_leaf_reg': 3.5, 'bagging_temperature': 0.0}. Best is trial 0 with value: 0.8135593220338984.\n",
            "[I 2025-01-15 17:02:52,762] Trial 20 finished with value: 0.7896253602305475 and parameters: {'iterations': 750, 'depth': 10, 'learning_rate': 0.08, 'l2_leaf_reg': 5.0, 'bagging_temperature': 0.7000000000000001}. Best is trial 0 with value: 0.8135593220338984.\n",
            "[I 2025-01-15 17:03:08,654] Trial 21 finished with value: 0.8089887640449438 and parameters: {'iterations': 650, 'depth': 10, 'learning_rate': 0.2, 'l2_leaf_reg': 5.5, 'bagging_temperature': 0.4}. Best is trial 0 with value: 0.8135593220338984.\n",
            "[I 2025-01-15 17:03:22,170] Trial 22 finished with value: 0.8125 and parameters: {'iterations': 550, 'depth': 10, 'learning_rate': 0.18000000000000002, 'l2_leaf_reg': 2.5, 'bagging_temperature': 0.30000000000000004}. Best is trial 0 with value: 0.8135593220338984.\n",
            "[I 2025-01-15 17:03:32,267] Trial 23 finished with value: 0.8 and parameters: {'iterations': 550, 'depth': 9, 'learning_rate': 0.15000000000000002, 'l2_leaf_reg': 2.5, 'bagging_temperature': 0.2}. Best is trial 0 with value: 0.8135593220338984.\n",
            "[I 2025-01-15 17:03:35,579] Trial 24 finished with value: 0.7749287749287749 and parameters: {'iterations': 350, 'depth': 8, 'learning_rate': 0.18000000000000002, 'l2_leaf_reg': 4.0, 'bagging_temperature': 0.30000000000000004}. Best is trial 0 with value: 0.8135593220338984.\n",
            "[I 2025-01-15 17:03:49,089] Trial 25 finished with value: 0.8022598870056498 and parameters: {'iterations': 550, 'depth': 10, 'learning_rate': 0.18000000000000002, 'l2_leaf_reg': 1.0, 'bagging_temperature': 0.1}. Best is trial 0 with value: 0.8135593220338984.\n",
            "[I 2025-01-15 17:04:05,772] Trial 26 finished with value: 0.8158640226628895 and parameters: {'iterations': 1000, 'depth': 9, 'learning_rate': 0.14, 'l2_leaf_reg': 2.0, 'bagging_temperature': 0.6000000000000001}. Best is trial 26 with value: 0.8158640226628895.\n",
            "[I 2025-01-15 17:04:22,973] Trial 27 finished with value: 0.807909604519774 and parameters: {'iterations': 1000, 'depth': 9, 'learning_rate': 0.09999999999999999, 'l2_leaf_reg': 2.0, 'bagging_temperature': 0.6000000000000001}. Best is trial 26 with value: 0.8158640226628895.\n",
            "[I 2025-01-15 17:04:31,540] Trial 28 finished with value: 0.8033707865168539 and parameters: {'iterations': 750, 'depth': 8, 'learning_rate': 0.17, 'l2_leaf_reg': 2.0, 'bagging_temperature': 0.7000000000000001}. Best is trial 26 with value: 0.8158640226628895.\n",
            "[I 2025-01-15 17:04:40,119] Trial 29 finished with value: 0.7909604519774012 and parameters: {'iterations': 950, 'depth': 7, 'learning_rate': 0.12, 'l2_leaf_reg': 10.0, 'bagging_temperature': 0.30000000000000004}. Best is trial 26 with value: 0.8158640226628895.\n",
            "[I 2025-01-15 17:04:47,142] Trial 30 finished with value: 0.8112676056338028 and parameters: {'iterations': 450, 'depth': 9, 'learning_rate': 0.13, 'l2_leaf_reg': 3.0, 'bagging_temperature': 0.1}. Best is trial 26 with value: 0.8158640226628895.\n",
            "[I 2025-01-15 17:05:12,188] Trial 31 finished with value: 0.8156424581005587 and parameters: {'iterations': 1000, 'depth': 10, 'learning_rate': 0.14, 'l2_leaf_reg': 3.0, 'bagging_temperature': 0.5}. Best is trial 26 with value: 0.8158640226628895.\n",
            "[I 2025-01-15 17:05:37,232] Trial 32 finished with value: 0.7932011331444759 and parameters: {'iterations': 1000, 'depth': 10, 'learning_rate': 0.15000000000000002, 'l2_leaf_reg': 4.0, 'bagging_temperature': 0.4}. Best is trial 26 with value: 0.8158640226628895.\n",
            "[I 2025-01-15 17:05:53,109] Trial 33 finished with value: 0.8045325779036827 and parameters: {'iterations': 950, 'depth': 9, 'learning_rate': 0.17, 'l2_leaf_reg': 1.5, 'bagging_temperature': 0.6000000000000001}. Best is trial 26 with value: 0.8158640226628895.\n",
            "[I 2025-01-15 17:06:15,737] Trial 34 finished with value: 0.7988668555240793 and parameters: {'iterations': 900, 'depth': 10, 'learning_rate': 0.19, 'l2_leaf_reg': 2.5, 'bagging_temperature': 0.5}. Best is trial 26 with value: 0.8158640226628895.\n",
            "[I 2025-01-15 17:06:41,212] Trial 35 finished with value: 0.7977207977207977 and parameters: {'iterations': 1000, 'depth': 10, 'learning_rate': 0.12, 'l2_leaf_reg': 3.5, 'bagging_temperature': 0.4}. Best is trial 26 with value: 0.8158640226628895.\n",
            "[I 2025-01-15 17:06:55,633] Trial 36 finished with value: 0.7942857142857143 and parameters: {'iterations': 800, 'depth': 9, 'learning_rate': 0.09, 'l2_leaf_reg': 4.5, 'bagging_temperature': 0.7000000000000001}. Best is trial 26 with value: 0.8158640226628895.\n",
            "[I 2025-01-15 17:07:00,945] Trial 37 finished with value: 0.8034188034188035 and parameters: {'iterations': 900, 'depth': 6, 'learning_rate': 0.15000000000000002, 'l2_leaf_reg': 1.5, 'bagging_temperature': 0.2}. Best is trial 26 with value: 0.8158640226628895.\n",
            "[I 2025-01-15 17:07:06,990] Trial 38 finished with value: 0.7771428571428571 and parameters: {'iterations': 700, 'depth': 6, 'learning_rate': 0.13, 'l2_leaf_reg': 2.5, 'bagging_temperature': 0.8}. Best is trial 26 with value: 0.8158640226628895.\n",
            "[I 2025-01-15 17:07:22,716] Trial 39 finished with value: 0.7943661971830986 and parameters: {'iterations': 600, 'depth': 10, 'learning_rate': 0.11, 'l2_leaf_reg': 4.5, 'bagging_temperature': 0.6000000000000001}. Best is trial 26 with value: 0.8158640226628895.\n",
            "[I 2025-01-15 17:07:33,837] Trial 40 finished with value: 0.8123249299719888 and parameters: {'iterations': 950, 'depth': 8, 'learning_rate': 0.19, 'l2_leaf_reg': 3.5, 'bagging_temperature': 0.4}. Best is trial 26 with value: 0.8158640226628895.\n",
            "[I 2025-01-15 17:07:55,151] Trial 41 finished with value: 0.8123249299719888 and parameters: {'iterations': 850, 'depth': 10, 'learning_rate': 0.14, 'l2_leaf_reg': 3.0, 'bagging_temperature': 0.5}. Best is trial 26 with value: 0.8158640226628895.\n",
            "[I 2025-01-15 17:08:16,689] Trial 42 finished with value: 0.7988668555240793 and parameters: {'iterations': 800, 'depth': 10, 'learning_rate': 0.16, 'l2_leaf_reg': 3.0, 'bagging_temperature': 0.5}. Best is trial 26 with value: 0.8158640226628895.\n",
            "[I 2025-01-15 17:08:38,277] Trial 43 finished with value: 0.8225352112676056 and parameters: {'iterations': 850, 'depth': 10, 'learning_rate': 0.13, 'l2_leaf_reg': 2.0, 'bagging_temperature': 0.6000000000000001}. Best is trial 43 with value: 0.8225352112676056.\n",
            "[I 2025-01-15 17:08:56,034] Trial 44 finished with value: 0.8045325779036827 and parameters: {'iterations': 950, 'depth': 9, 'learning_rate': 0.03, 'l2_leaf_reg': 2.0, 'bagging_temperature': 0.8}. Best is trial 43 with value: 0.8225352112676056.\n",
            "[I 2025-01-15 17:09:21,358] Trial 45 finished with value: 0.7966101694915254 and parameters: {'iterations': 1000, 'depth': 10, 'learning_rate': 0.11, 'l2_leaf_reg': 1.0, 'bagging_temperature': 0.6000000000000001}. Best is trial 43 with value: 0.8225352112676056.\n",
            "[I 2025-01-15 17:09:33,580] Trial 46 finished with value: 0.8033707865168539 and parameters: {'iterations': 700, 'depth': 9, 'learning_rate': 0.13, 'l2_leaf_reg': 2.0, 'bagging_temperature': 0.30000000000000004}. Best is trial 43 with value: 0.8225352112676056.\n",
            "[I 2025-01-15 17:09:49,344] Trial 47 finished with value: 0.8068181818181818 and parameters: {'iterations': 900, 'depth': 9, 'learning_rate': 0.18000000000000002, 'l2_leaf_reg': 2.5, 'bagging_temperature': 0.7000000000000001}. Best is trial 43 with value: 0.8225352112676056.\n",
            "[I 2025-01-15 17:10:04,354] Trial 48 finished with value: 0.8112676056338028 and parameters: {'iterations': 600, 'depth': 10, 'learning_rate': 0.15000000000000002, 'l2_leaf_reg': 1.5, 'bagging_temperature': 0.6000000000000001}. Best is trial 43 with value: 0.8225352112676056.\n",
            "[I 2025-01-15 17:10:07,282] Trial 49 finished with value: 0.7652173913043478 and parameters: {'iterations': 300, 'depth': 8, 'learning_rate': 0.12, 'l2_leaf_reg': 4.0, 'bagging_temperature': 0.1}. Best is trial 43 with value: 0.8225352112676056.\n"
          ]
        },
        {
          "output_type": "stream",
          "name": "stdout",
          "text": [
            "Best hyperparameters:  {'iterations': 850, 'depth': 10, 'learning_rate': 0.13, 'l2_leaf_reg': 2.0, 'bagging_temperature': 0.6000000000000001}\n",
            "Best F1-score:  0.8225352112676056\n"
          ]
        }
      ]
    },
    {
      "cell_type": "code",
      "source": [
        "model_cb = CatBoostClassifier(\n",
        "        iterations=850,\n",
        "        depth=10,\n",
        "        learning_rate=0.13,\n",
        "        cat_features=[3, 4],\n",
        "        l2_leaf_reg=2,\n",
        "        bagging_temperature=0.6,\n",
        "        random_state=42,\n",
        "        verbose=0\n",
        "    )\n",
        "\n",
        "model_cb.fit(X_train_cb, y_train_cb)"
      ],
      "metadata": {
        "colab": {
          "base_uri": "https://localhost:8080/"
        },
        "id": "fDt19YuiyiwJ",
        "outputId": "19e42f73-9ca4-455d-fa4c-1e61db8e82a1"
      },
      "execution_count": 17,
      "outputs": [
        {
          "output_type": "execute_result",
          "data": {
            "text/plain": [
              "<catboost.core.CatBoostClassifier at 0x78c88434b890>"
            ]
          },
          "metadata": {},
          "execution_count": 17
        }
      ]
    },
    {
      "cell_type": "code",
      "source": [
        "y_train_pred = model_cb.predict(X_train_cb)\n",
        "y_val_pred = model_cb.predict(X_val_cb)\n",
        "y_test_pred = model_cb.predict(X_test_cb)"
      ],
      "metadata": {
        "id": "zeImbweYxIlS"
      },
      "execution_count": 18,
      "outputs": []
    },
    {
      "cell_type": "code",
      "source": [
        "fig, axes = plt.subplots(1, 3, figsize=(18, 6))\n",
        "\n",
        "#Calculate confusion matrix for each dataset\n",
        "cm_train = confusion_matrix(y_train_cb, y_train_pred)\n",
        "cm_val = confusion_matrix(y_val_cb, y_val_pred)\n",
        "cm_test = confusion_matrix(y_test_cb, y_test_pred)\n",
        "\n",
        "# Plot heatmap for each confusion matrix\n",
        "sns.heatmap(cm_train, annot=True, fmt='d', cmap='Blues', cbar=False, ax=axes[0])\n",
        "axes[0].set_xlabel('Predicted')\n",
        "axes[0].set_ylabel('Actual')\n",
        "axes[0].set_title('Train Confusion Matrix')\n",
        "\n",
        "sns.heatmap(cm_val, annot=True, fmt='d', cmap='Blues', cbar=False, ax=axes[1])\n",
        "axes[1].set_xlabel('Predicted')\n",
        "axes[1].set_ylabel('Actual')\n",
        "axes[1].set_title('Validation Confusion Matrix')\n",
        "\n",
        "sns.heatmap(cm_test, annot=True, fmt='d', cmap='Blues', cbar=False, ax=axes[2])\n",
        "axes[2].set_xlabel('Predicted')\n",
        "axes[2].set_ylabel('Actual')\n",
        "axes[2].set_title('Test Confusion Matrix')\n",
        "\n",
        "#Show plot\n",
        "plt.tight_layout()\n",
        "plt.show()"
      ],
      "metadata": {
        "colab": {
          "base_uri": "https://localhost:8080/",
          "height": 299
        },
        "id": "MnRm8qkUxVNS",
        "outputId": "77e660cd-c099-41ef-ff51-617e7548e851"
      },
      "execution_count": null,
      "outputs": [
        {
          "output_type": "display_data",
          "data": {
            "text/plain": [
              "<Figure size 1800x600 with 3 Axes>"
            ],
            "image/png": "[encoded data removed]"
          },
          "metadata": {}
        }
      ]
    },
    {
      "cell_type": "code",
      "source": [
        "print(\"F1-score của tập train: \", f1_score(y_train_cb, y_train_pred))\n",
        "print(\"F1-score của tập val: \", f1_score(y_val_cb, y_val_pred))\n",
        "print(\"F1-score của tập test: \", f1_score(y_test_cb, y_test_pred))"
      ],
      "metadata": {
        "colab": {
          "base_uri": "https://localhost:8080/"
        },
        "id": "Dn_5Z7ZLxdxP",
        "outputId": "bf24e90f-5ab6-408d-fb36-6107bdbad9b9"
      },
      "execution_count": null,
      "outputs": [
        {
          "output_type": "stream",
          "name": "stdout",
          "text": [
            "F1-score của tập train:  1.0\n",
            "F1-score của tập val:  0.8225352112676056\n",
            "F1-score của tập test:  0.8218029350104822\n"
          ]
        }
      ]
    },
    {
      "cell_type": "markdown",
      "source": [
        "*Dựa trên chỉ số F1-score, có thể thấy mô hình CatBoost có hiệu suất dự báo tốt hơn đáng kể so với mô hình RandomForest*"
      ],
      "metadata": {
        "id": "_2-qIl9Q9EM1"
      }
    },
    {
      "cell_type": "markdown",
      "source": [
        "***Kiểm định mô hình bằng ROC-AUC và chỉ số Gini***"
      ],
      "metadata": {
        "id": "poOC4meEBZBS"
      }
    },
    {
      "cell_type": "code",
      "source": [
        "auc = roc_auc_score(y_test_cb, y_test_pred)\n",
        "gini = 2 * auc - 1"
      ],
      "metadata": {
        "id": "9CvgBeI4BDeS"
      },
      "execution_count": 20,
      "outputs": []
    },
    {
      "cell_type": "code",
      "source": [
        "fpr, tpr, _ = roc_curve(y_test_cb, y_test_pred)"
      ],
      "metadata": {
        "id": "LuOzAcJiBLRm"
      },
      "execution_count": 21,
      "outputs": []
    },
    {
      "cell_type": "code",
      "source": [
        "plt.figure(figsize=(6, 6))\n",
        "plt.plot(fpr, tpr, label=f\"AUC = {auc:.4f}\\nGini = {gini:.4f}\", color=\"blue\")\n",
        "plt.plot([0, 1], [0, 1], linestyle=\"--\", color=\"gray\", label=\"Random Model\")\n",
        "plt.xlabel(\"False Positive Rate\")\n",
        "plt.ylabel(\"True Positive Rate\")\n",
        "plt.title(\"ROC Curve and Gini Coefficient\")\n",
        "plt.legend()\n",
        "plt.grid()\n",
        "plt.show()"
      ],
      "metadata": {
        "colab": {
          "base_uri": "https://localhost:8080/",
          "height": 564
        },
        "id": "Yh6EKHPDBNKw",
        "outputId": "455b5869-b1ab-442a-c3ac-513d51d75e3a"
      },
      "execution_count": 26,
      "outputs": [
        {
          "output_type": "display_data",
          "data": {
            "text/plain": [
              "<Figure size 600x600 with 1 Axes>"
            ],
            "image/png": "[encoded data removed]"
          },
          "metadata": {}
        }
      ]
    },
    {
      "cell_type": "markdown",
      "source": [
        "*AUC>0.8 và Gini>0.6 cho thấy mô hình CatBoost được sử dụng là mô hình có khả năng dự báo tốt***"
      ],
      "metadata": {
        "id": "hhVyjf0oCjQh"
      }
    },
    {
      "cell_type": "markdown",
      "source": [
        "***Feature Importance***"
      ],
      "metadata": {
        "id": "twN62LMH9Rav"
      }
    },
    {
      "cell_type": "code",
      "source": [
        "importances = model_cb.feature_importances_\n",
        "indices = np.argsort(importances)[::-1]"
      ],
      "metadata": {
        "id": "b2w4QXYl9QOf"
      },
      "execution_count": null,
      "outputs": []
    },
    {
      "cell_type": "code",
      "source": [
        "plt.figure(figsize=(10, 6))\n",
        "plt.barh(range(len(importances)), importances[indices], align='center')\n",
        "plt.yticks(range(len(importances)), [X_train_cb.columns[i] for i in indices])\n",
        "plt.title('Feature Importance in CatBoost')\n",
        "plt.show()"
      ],
      "metadata": {
        "colab": {
          "base_uri": "https://localhost:8080/",
          "height": 534
        },
        "id": "HnBNnjwB980z",
        "outputId": "2983d11d-f2e3-4e62-9e0c-2b534366aa23"
      },
      "execution_count": null,
      "outputs": [
        {
          "output_type": "display_data",
          "data": {
            "text/plain": [
              "<Figure size 1000x600 with 1 Axes>"
            ],
            "image/png": "[encoded data removed]"
          },
          "metadata": {}
        }
      ]
    }
  ]
}